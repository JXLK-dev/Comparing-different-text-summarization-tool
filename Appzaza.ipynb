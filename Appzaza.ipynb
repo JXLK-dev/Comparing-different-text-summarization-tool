{
 "cells": [
  {
   "cell_type": "code",
   "execution_count": 12,
   "metadata": {},
   "outputs": [],
   "source": [
    "from rouge import Rouge"
   ]
  },
  {
   "cell_type": "markdown",
   "metadata": {},
   "source": []
  },
  {
   "cell_type": "code",
   "execution_count": 13,
   "metadata": {},
   "outputs": [],
   "source": [
    "reference1 = \"The messages will be \\\"unwrapped\\\" by sculptor Richard Wentworth, who is responsible for decorating the tree with broken plates and light bulbs.A Christmas tree that can receive text messages has been unveiled at London's Tate Britain art gallery.It is the 17th year that the gallery has invited an artist to dress their Christmas tree.The spruce has an antenna which can receive Bluetooth texts sent by visitors to the Tate.His reputation as a sculptor grew in the 1980s, while he has been one of the most influential teachers during the last two decades.\"\n",
    "reference2= \"Bloom is to be formally presented with the Hans Christian Andersen Award this spring in Anderson's hometown of Odense.Later at a gala dinner, Danish supermodel Helena Christensen was named a Hans Christian Andersen ambassador.French musician Jean-Michel Jarre is to perform at a concert in Copenhagen to mark the bicentennial of the birth of writer Hans Christian Andersen.\\\"Christian Andersen's fairy tales are timeless and universal,\\\" said Jarre.The royal couple also visited the Hans Christian Anderson School complex, where Queen Mary read The Ugly Duckling to the young audience.\\\"Bloom recognizes the darker aspects of Andersen's authorship,\\\" Prince Frederik said.\"\n",
    "reference3= \"The classic film It's A Wonderful Life is to be turned into a musical by the producer of the controversial hit show Jerry Springer - The Opera.Mr Thoday said the idea of turning the film into a musical had been an ambition of his for almost 20 years.Mr Thoday managed to buy the rights to the story from Van Doren Stern's family in 1999, following Mr Brown's success with Spend Spend Spend.He is working with Steve Brown, who wrote the award-winning musical Spend Spend Spend.\"\n",
    "reference4= \"\\\"It was very hard to follow last year's extremely successful list, but we think this year's books will do even better,\\\" said Richard and Judy executive producer Amanda Ross.The 10 authors shortlisted for a Richard and Judy book award in 2005 are hoping for a boost in sales following the success of this year's winner.The best read award, on Richard Madeley and Judy Finnigan's Channel 4 show, is part of the British Book Awards.\\\"There's no doubt that this year's selection of book club entries is the best yet.The TV couple's interest in the book world coined the term \\\"the Richard & Judy effect\\\" and created the top two best-selling paperbacks of 2004 so far.\"\n",
    "reference6= \"The History Boys by Alan Bennett has been named best new play in the Critics' Circle Theatre Awards.The Producers was named best musical, Victoria Hamilton was best actress for Suddenly Last Summer and Festen's Rufus Norris was named best director.The History Boys also won the best new comedy title at the Theatregoers' Choice Awards.Diana Rigg was best actress for Suddenly Last Summer, Dame Judi Dench was best supporting actress for the RSC's All's Well That Ends Well and The History Boys' Samuel Barnett was best supporting actor.\"\n",
    "reference8= \"Meanwhile, Richard Griffiths, who plays Hector in The History Boys at the National Theatre, will battle it out for the best actor award with Douglas Hodge (Dumb Show) and Stanley Townsend (Shining City).The Milton Shulman Award for outstanding newcomer will be presented to Dominic Cooper (His Dark Materials and The History Boys), Romola Garai (Calico), Eddie Redmayne (The Goat, or Who is Sylvia?)by Edward Albee, The Pillowman by Martin McDonagh and Alan Bennett's The History Boys are shortlisted in the best play category.The Producers, starring Nathan Lane and Lee Evans, is up for best musical at the ceremony at the National Theatre.Ferris - best known for her television roles in programmes such as The Darling Buds of May - has made the shortlist for her role in Notes on Falling Leaves, at the Royal Court Theatre.Festen is also shortlisted in the best designer category where Ian MacNeil, Jean Kalman and Paul Arditti will be up against Hildegard Bechtler, for Iphigenia at Aulis, and Paul Brown, for False Servant.\"\n",
    "reference9= \"Despite enjoying Dan Brown's conspiracy theory, the Bishop said there was a lack of evidence to back up its claims.A great deal of credible evidence proves the Biblical version of Jesus' life was true, according to the Bishop.The Da Vinci Code has been translated into 42 languages and has spawned its own cottage industry of publications, including guides on to how to read the book, rebuttals and counter claims.The plot of an international bestseller that thousands of readers are likely to receive as a Christmas present is 'laughable', a clergyman has said.The book, which has become an international best-seller in little over two years, is set to be made into a film starring Tom Hanks.Brown's book has become a publishing phenomenon, consistently topping book charts in the UK and US.\"\n",
    "reference10= \"She said the play is being produced and performed by Ugandan women and it is not being forced on them.But the organisers of the play say it raises awareness of sexual abuse against women.\\\"The play promotes illegal, unnatural sexual acts, homosexuality and prostitution, it should be and is hereby banned,\\\" the council's ruling said.Uganda's authorities have banned the play The Vagina Monologues, due to open in the capital, Kampala this weekend.The four Ugandan NGOs organising the play intended to raise money to campaign to stop violence against women and to raise funds for the war-torn north of the country.\\\"There is obviously some fear of the vagina and saying the word vagina,\\\" Ms Ensler told the BBC.\"\n",
    "reference11= \"Ms Bradburn said there was a big queue at the start of the sale but it had now gone down.She said the people that had bought the famous name postcards had arrived early and had spent time studying each work.The famous sale is now in its 11th year.Money raised from the sale will go towards the RCA's Fine Art Student Award Fund which supports students with grants and bursaries.Film director Ken Loach, fashion designer Hussein Chalayan and former Blur guitarist Graham Coxon have all designed postcards for the sale.Postcards by artists including Damien Hirst and Tracey Emin have sold just hours after the opening of the Royal Academy of Arts annual Secrets sale.\"\n",
    "\n",
    "\n",
    "model_summary1 = \"Gallery unveils interactive tree A Christmas tree that can receive text messages has been unveiled at London's Tate Britain art gallery. The spruce has an antenna which can receive Bluetooth texts sent by visitors to the Tate. The plain green Norway spruce is displayed in the gallery's foyer.\"\n",
    "model_summary2 = \"Jarre joins fairytale celebration French musician Jean-Michel Jarre is to perform at a concert in Copenhagen to mark the bicentennial of the birth of writer Hans Christian Andersen. Denmark is holding a three-day celebration of the life of the fairy-tale author, with a concert at Parken stadium on 2 April. \\\"Bloom recognizes the darker aspects of Andersen's authorship,\\\" Prince Frederik said.\"\n",
    "model_summary3 = \"Musical treatment for Capra film The classic film It's A Wonderful Life is to be turned into a musical by the producer of the controversial hit show Jerry Springer - The Opera. Frank Capra's 1946 movie starring James Stewart, is being turned into a £7m musical by producer Jon Thoday. A series of workshops have been held in London, and on Wednesday a cast of singers unveiled the musical to a select group of potential investors.\"\n",
    "model_summary4 = \"ichard and Judy choose top books The 10 authors shortlisted for a  The TV couple's interest in the book world coined the term \\\"the \\\"There's no doubt that this year's selection of book club entries is the best yet.\"\n",
    "model_summary6 = \"Bennett play takes theatre prizes The History Boys by Alan Bennett has been named best new play in the Critics' Circle Theatre Awards. Set in a grammar school, the play also earned a best actor prize for star Partly based upon Alan Bennett's experience as a teacher, The History Boys has been at London's National Theatre since last May. Paul \"\n",
    "model_summary8 = \"West End to honour finest shows The West End is honouring its finest stars and shows at the Evening Standard Theatre Awards in London on Monday. The Producers, starring Nathan Lane and Lee Evans, is up for best musical at the ceremony at the National Theatre. Pam Ferris, Victoria Hamilton and Kelly Festen is also shortlisted in the best designer category where Ian MacNeil, Jean Kalman and Paul Arditti will be up against Hildegard Bechtler, for Iphigenia at Aulis, and Paul Brown, for False Servant.\"\n",
    "model_summary9 = \"Da Vinci Code is 'lousy history' The plot of an international bestseller that thousands of readers are likely to receive as a Christmas present is 'laughable', a clergyman has said. The Da Vinci Code claims Jesus was not crucified, but married Mary Magdalene and died a normal death. Writing his Christmas message in the Northern Echo, the Bishop said: \\\"Conspiracy theories are always fun - fun to invent, fun to read, fun to fantasise about. \\\"Historical research shows that they present a coherent and thoroughly credible picture of Jesus, with all sorts of incidental details that fit the time when he lived, and don't fit the world of later legend.\\\"\"\n",
    "model_summary10 = \"Uganda bans Vagina Monologues Uganda's authorities have banned the play The Vagina Monologues, due to open in the capital, Kampala this weekend. The Ugandan Media Council said the performance would not be put on as it promoted and glorified acts such as lesbianism and homosexuality. The show, which has been a controversial sell-out around the world, explores female sexuality and strength through individual women telling their stories through monologues. But the work's author, US playwright Eve Ensler, says it is all about women's empowerment.\"\n",
    "model_summary11 = \"Artists' secret postcards on sale Postcards by artists including Damien Hirst and Tracey Emin have sold just hours after the opening of the  The identity of the artist remains unknown until each work is bought and the signature is revealed on the back. She said the people that had bought the famous name postcards had arrived early and had spent time studying each work.\"\n",
    "r = Rouge()\n",
    "\n",
    "modelarray = [model_summary1,model_summary2,model_summary3,model_summary4,model_summary6,model_summary8,model_summary9,model_summary10,model_summary11]\n",
    "\n",
    "referencearray = [reference1,reference2,reference3,reference4,reference6,reference8,reference9,reference10,reference11]"
   ]
  },
  {
   "cell_type": "code",
   "execution_count": 14,
   "metadata": {},
   "outputs": [
    {
     "data": {
      "text/plain": [
       "[{'rouge-1': {'r': 0.43661971830985913, 'p': 0.775, 'f': 0.5585585539485431},\n",
       "  'rouge-2': {'r': 0.33695652173913043,\n",
       "   'p': 0.6739130434782609,\n",
       "   'f': 0.4492753578743962},\n",
       "  'rouge-l': {'r': 0.43661971830985913, 'p': 0.775, 'f': 0.5585585539485431}}]"
      ]
     },
     "execution_count": 14,
     "metadata": {},
     "output_type": "execute_result"
    }
   ],
   "source": [
    "r.get_scores(model_summary1,reference1)"
   ]
  },
  {
   "cell_type": "code",
   "execution_count": 15,
   "metadata": {},
   "outputs": [
    {
     "data": {
      "text/plain": [
       "[{'rouge-1': {'r': 0.4189189189189189,\n",
       "   'p': 0.6888888888888889,\n",
       "   'f': 0.521008398658287},\n",
       "  'rouge-2': {'r': 0.3548387096774194,\n",
       "   'p': 0.5789473684210527,\n",
       "   'f': 0.43999999528800005},\n",
       "  'rouge-l': {'r': 0.40540540540540543,\n",
       "   'p': 0.6666666666666666,\n",
       "   'f': 0.5042016759692114}}]"
      ]
     },
     "execution_count": 15,
     "metadata": {},
     "output_type": "execute_result"
    }
   ],
   "source": [
    "r.get_scores(model_summary2,reference2)"
   ]
  },
  {
   "cell_type": "code",
   "execution_count": 16,
   "metadata": {},
   "outputs": [
    {
     "data": {
      "text/plain": [
       "[{'rouge-1': {'r': 0.46774193548387094,\n",
       "   'p': 0.5087719298245614,\n",
       "   'f': 0.48739495299202035},\n",
       "  'rouge-2': {'r': 0.32098765432098764,\n",
       "   'p': 0.3611111111111111,\n",
       "   'f': 0.3398692760630527},\n",
       "  'rouge-l': {'r': 0.41935483870967744,\n",
       "   'p': 0.45614035087719296,\n",
       "   'f': 0.4369747849247935}}]"
      ]
     },
     "execution_count": 16,
     "metadata": {},
     "output_type": "execute_result"
    }
   ],
   "source": [
    "r.get_scores(model_summary3,reference3)"
   ]
  },
  {
   "cell_type": "code",
   "execution_count": 17,
   "metadata": {},
   "outputs": [
    {
     "data": {
      "text/plain": [
       "[{'rouge-1': {'r': 0.38372093023255816,\n",
       "   'p': 0.9428571428571428,\n",
       "   'f': 0.5454545413428045},\n",
       "  'rouge-2': {'r': 0.27927927927927926,\n",
       "   'p': 0.8157894736842105,\n",
       "   'f': 0.4161073787505068},\n",
       "  'rouge-l': {'r': 0.36046511627906974,\n",
       "   'p': 0.8857142857142857,\n",
       "   'f': 0.512396690103135}}]"
      ]
     },
     "execution_count": 17,
     "metadata": {},
     "output_type": "execute_result"
    }
   ],
   "source": [
    "r.get_scores(model_summary4,reference4)"
   ]
  },
  {
   "cell_type": "code",
   "execution_count": 18,
   "metadata": {},
   "outputs": [
    {
     "data": {
      "text/plain": [
       "[{'rouge-1': {'r': 0.39285714285714285,\n",
       "   'p': 0.4888888888888889,\n",
       "   'f': 0.43564355941574356},\n",
       "  'rouge-2': {'r': 0.2328767123287671,\n",
       "   'p': 0.30357142857142855,\n",
       "   'f': 0.263565886559702},\n",
       "  'rouge-l': {'r': 0.35714285714285715,\n",
       "   'p': 0.4444444444444444,\n",
       "   'f': 0.3960395990197039}}]"
      ]
     },
     "execution_count": 18,
     "metadata": {},
     "output_type": "execute_result"
    }
   ],
   "source": [
    "r.get_scores(model_summary6,reference6)"
   ]
  },
  {
   "cell_type": "code",
   "execution_count": 19,
   "metadata": {},
   "outputs": [
    {
     "data": {
      "text/plain": [
       "[{'rouge-1': {'r': 0.35833333333333334,\n",
       "   'p': 0.7049180327868853,\n",
       "   'f': 0.47513811707823334},\n",
       "  'rouge-2': {'r': 0.31210191082802546, 'p': 0.6125, 'f': 0.4135021052324236},\n",
       "  'rouge-l': {'r': 0.35, 'p': 0.6885245901639344, 'f': 0.46408839332132723}}]"
      ]
     },
     "execution_count": 19,
     "metadata": {},
     "output_type": "execute_result"
    }
   ],
   "source": [
    "r.get_scores(model_summary8,reference8)"
   ]
  },
  {
   "cell_type": "code",
   "execution_count": 20,
   "metadata": {},
   "outputs": [
    {
     "data": {
      "text/plain": [
       "[{'rouge-1': {'r': 0.3404255319148936,\n",
       "   'p': 0.3902439024390244,\n",
       "   'f': 0.3636363586596075},\n",
       "  'rouge-2': {'r': 0.22137404580152673,\n",
       "   'p': 0.2761904761904762,\n",
       "   'f': 0.24576270692509347},\n",
       "  'rouge-l': {'r': 0.3404255319148936,\n",
       "   'p': 0.3902439024390244,\n",
       "   'f': 0.3636363586596075}}]"
      ]
     },
     "execution_count": 20,
     "metadata": {},
     "output_type": "execute_result"
    }
   ],
   "source": [
    "r.get_scores(model_summary9,reference9)"
   ]
  },
  {
   "cell_type": "code",
   "execution_count": 21,
   "metadata": {},
   "outputs": [
    {
     "data": {
      "text/plain": [
       "[{'rouge-1': {'r': 0.35, 'p': 0.3888888888888889, 'f': 0.3684210476454294},\n",
       "  'rouge-2': {'r': 0.1875, 'p': 0.25301204819277107, 'f': 0.2153846104952006},\n",
       "  'rouge-l': {'r': 0.3375, 'p': 0.375, 'f': 0.35526315290858734}}]"
      ]
     },
     "execution_count": 21,
     "metadata": {},
     "output_type": "execute_result"
    }
   ],
   "source": [
    "r.get_scores(model_summary10,reference10)"
   ]
  },
  {
   "cell_type": "code",
   "execution_count": 22,
   "metadata": {},
   "outputs": [
    {
     "data": {
      "text/plain": [
       "[{'rouge-1': {'r': 0.3870967741935484,\n",
       "   'p': 0.7659574468085106,\n",
       "   'f': 0.5142857098255104},\n",
       "  'rouge-2': {'r': 0.3333333333333333,\n",
       "   'p': 0.6229508196721312,\n",
       "   'f': 0.4342857097443266},\n",
       "  'rouge-l': {'r': 0.3763440860215054,\n",
       "   'p': 0.7446808510638298,\n",
       "   'f': 0.49999999553979596}}]"
      ]
     },
     "execution_count": 22,
     "metadata": {},
     "output_type": "execute_result"
    }
   ],
   "source": [
    "r.get_scores(model_summary11,reference11)"
   ]
  },
  {
   "cell_type": "code",
   "execution_count": 23,
   "metadata": {},
   "outputs": [
    {
     "data": {
      "text/plain": [
       "{'rouge-1': {'r': 0.39285714280490286,\n",
       "  'p': 0.6282683468203102,\n",
       "  'f': 0.47439347106290874},\n",
       " 'rouge-2': {'r': 0.2865831297009411,\n",
       "  'p': 0.4997761965912713,\n",
       "  'f': 0.3575281141036335},\n",
       " 'rouge-l': {'r': 0.37591750597591866,\n",
       "  'p': 0.6029350101521531,\n",
       "  'f': 0.4545732449327451}}"
      ]
     },
     "execution_count": 23,
     "metadata": {},
     "output_type": "execute_result"
    }
   ],
   "source": [
    "r.get_scores(modelarray,referencearray, avg=True)"
   ]
  }
 ],
 "metadata": {
  "kernelspec": {
   "display_name": "Python 3.10.5 64-bit",
   "language": "python",
   "name": "python3"
  },
  "language_info": {
   "codemirror_mode": {
    "name": "ipython",
    "version": 3
   },
   "file_extension": ".py",
   "mimetype": "text/x-python",
   "name": "python",
   "nbconvert_exporter": "python",
   "pygments_lexer": "ipython3",
   "version": "3.10.5"
  },
  "orig_nbformat": 4,
  "vscode": {
   "interpreter": {
    "hash": "0334ea6ff030685dad5974c320cdaf623bb3aafa06c1ab73f81d05a29addd0ed"
   }
  }
 },
 "nbformat": 4,
 "nbformat_minor": 2
}
