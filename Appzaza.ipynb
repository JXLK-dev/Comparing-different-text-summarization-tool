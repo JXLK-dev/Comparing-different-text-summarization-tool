{
 "cells": [
  {
   "cell_type": "code",
   "execution_count": 6,
   "metadata": {},
   "outputs": [
    {
     "name": "stdout",
     "output_type": "stream",
     "text": [
      "Requirement already satisfied: rouge in c:\\users\\minem\\appdata\\local\\programs\\python\\python310\\lib\\site-packages (1.0.1)\n",
      "Requirement already satisfied: six in c:\\users\\minem\\appdata\\local\\programs\\python\\python310\\lib\\site-packages (from rouge) (1.16.0)\n",
      "Note: you may need to restart the kernel to use updated packages.\n"
     ]
    }
   ],
   "source": [
    "from rouge import Rouge"
   ]
  },
  {
   "cell_type": "code",
   "execution_count": 10,
   "metadata": {},
   "outputs": [],
   "source": [
    "reference1 = \"For the first time, Claxton has only been preparing for a campaign over the hurdles - which could explain her leap in form. Claxton has won the national 60m hurdles title for the past three years but has struggled to translate her domestic success to the international stage. British hurdler Sarah Claxton is confident she can win her first major medal at next month's European Indoor Championships in Madrid. Claxton will see if her new training regime pays dividends at the European Indoors which take place on 5-6 March. 'I am quite confident,' said Claxton.\"\n",
    "reference2= \"Bloom is to be formally presented with the Hans Christian Andersen Award this spring in Anderson's hometown of Odense.Later at a gala dinner, Danish supermodel Helena Christensen was named a Hans Christian Andersen ambassador.French musician Jean-Michel Jarre is to perform at a concert in Copenhagen to mark the bicentennial of the birth of writer Hans Christian Andersen.\\\"Christian Andersen's fairy tales are timeless and universal,\\\" said Jarre.The royal couple also visited the Hans Christian Anderson School complex, where Queen Mary read The Ugly Duckling to the young audience.\\\"Bloom recognizes the darker aspects of Andersen's authorship,\\\" Prince Frederik said.\"\n",
    "reference3= \"The classic film It's A Wonderful Life is to be turned into a musical by the producer of the controversial hit show Jerry Springer - The Opera.Mr Thoday said the idea of turning the film into a musical had been an ambition of his for almost 20 years.Mr Thoday managed to buy the rights to the story from Van Doren Stern's family in 1999, following Mr Brown's success with Spend Spend Spend.He is working with Steve Brown, who wrote the award-winning musical Spend Spend Spend.\"\n",
    "reference4= \"\\\"It was very hard to follow last year's extremely successful list, but we think this year's books will do even better,\\\" said Richard and Judy executive producer Amanda Ross.The 10 authors shortlisted for a Richard and Judy book award in 2005 are hoping for a boost in sales following the success of this year's winner.The best read award, on Richard Madeley and Judy Finnigan's Channel 4 show, is part of the British Book Awards.\\\"There's no doubt that this year's selection of book club entries is the best yet.The TV couple's interest in the book world coined the term \\\"the Richard & Judy effect\\\" and created the top two best-selling paperbacks of 2004 so far.\"\n",
    "reference6= \"The History Boys by Alan Bennett has been named best new play in the Critics' Circle Theatre Awards.The Producers was named best musical, Victoria Hamilton was best actress for Suddenly Last Summer and Festen's Rufus Norris was named best director.The History Boys also won the best new comedy title at the Theatregoers' Choice Awards.Diana Rigg was best actress for Suddenly Last Summer, Dame Judi Dench was best supporting actress for the RSC's All's Well That Ends Well and The History Boys' Samuel Barnett was best supporting actor.\"\n",
    "reference8= \"Meanwhile, Richard Griffiths, who plays Hector in The History Boys at the National Theatre, will battle it out for the best actor award with Douglas Hodge (Dumb Show) and Stanley Townsend (Shining City).The Milton Shulman Award for outstanding newcomer will be presented to Dominic Cooper (His Dark Materials and The History Boys), Romola Garai (Calico), Eddie Redmayne (The Goat, or Who is Sylvia?)by Edward Albee, The Pillowman by Martin McDonagh and Alan Bennett's The History Boys are shortlisted in the best play category.The Producers, starring Nathan Lane and Lee Evans, is up for best musical at the ceremony at the National Theatre.Ferris - best known for her television roles in programmes such as The Darling Buds of May - has made the shortlist for her role in Notes on Falling Leaves, at the Royal Court Theatre.Festen is also shortlisted in the best designer category where Ian MacNeil, Jean Kalman and Paul Arditti will be up against Hildegard Bechtler, for Iphigenia at Aulis, and Paul Brown, for False Servant.\"\n",
    "reference9= \"Despite enjoying Dan Brown's conspiracy theory, the Bishop said there was a lack of evidence to back up its claims.A great deal of credible evidence proves the Biblical version of Jesus' life was true, according to the Bishop.The Da Vinci Code has been translated into 42 languages and has spawned its own cottage industry of publications, including guides on to how to read the book, rebuttals and counter claims.The plot of an international bestseller that thousands of readers are likely to receive as a Christmas present is 'laughable', a clergyman has said.The book, which has become an international best-seller in little over two years, is set to be made into a film starring Tom Hanks.Brown's book has become a publishing phenomenon, consistently topping book charts in the UK and US.\"\n",
    "reference10= \"She said the play is being produced and performed by Ugandan women and it is not being forced on them.But the organisers of the play say it raises awareness of sexual abuse against women.\\\"The play promotes illegal, unnatural sexual acts, homosexuality and prostitution, it should be and is hereby banned,\\\" the council's ruling said.Uganda's authorities have banned the play The Vagina Monologues, due to open in the capital, Kampala this weekend.The four Ugandan NGOs organising the play intended to raise money to campaign to stop violence against women and to raise funds for the war-torn north of the country.\\\"There is obviously some fear of the vagina and saying the word vagina,\\\" Ms Ensler told the BBC.\"\n",
    "reference11= \"Ms Bradburn said there was a big queue at the start of the sale but it had now gone down.She said the people that had bought the famous name postcards had arrived early and had spent time studying each work.The famous sale is now in its 11th year.Money raised from the sale will go towards the RCA's Fine Art Student Award Fund which supports students with grants and bursaries.Film director Ken Loach, fashion designer Hussein Chalayan and former Blur guitarist Graham Coxon have all designed postcards for the sale.Postcards by artists including Damien Hirst and Tracey Emin have sold just hours after the opening of the Royal Academy of Arts annual Secrets sale.\"\n",
    "\n",
    "\n",
    "model_summary1 = \"\"\n",
    "model_summary2 = \"\"\n",
    "model_summary3 = \"\"\n",
    "model_summary4 = \"\"\n",
    "model_summary6 = \"\"\n",
    "model_summary8 = \"\"\n",
    "model_summary9 = \"\"\n",
    "model_summary10 = \"\"\n",
    "model_summary11 = \"\"\n",
    "\n",
    "r = Rouge()\n"
   ]
  },
  {
   "cell_type": "code",
   "execution_count": 11,
   "metadata": {},
   "outputs": [
    {
     "ename": "ValueError",
     "evalue": "Hypothesis is empty.",
     "output_type": "error",
     "traceback": [
      "\u001b[1;31m---------------------------------------------------------------------------\u001b[0m",
      "\u001b[1;31mValueError\u001b[0m                                Traceback (most recent call last)",
      "\u001b[1;32mc:\\Users\\minem\\OneDrive\\Desktop\\Desktop\\Work\\Binus\\ROUGE NLP\\AutotextSummarizer.ipynb Cell 3'\u001b[0m in \u001b[0;36m<cell line: 1>\u001b[1;34m()\u001b[0m\n\u001b[1;32m----> <a href='vscode-notebook-cell:/c%3A/Users/minem/OneDrive/Desktop/Desktop/Work/Binus/ROUGE%20NLP/AutotextSummarizer.ipynb#ch0000002?line=0'>1</a>\u001b[0m r\u001b[39m.\u001b[39;49mget_scores(model_summary1,reference1)\n",
      "File \u001b[1;32mc:\\Users\\minem\\AppData\\Local\\Programs\\Python\\Python310\\lib\\site-packages\\rouge\\rouge.py:107\u001b[0m, in \u001b[0;36mRouge.get_scores\u001b[1;34m(self, hyps, refs, avg, ignore_empty)\u001b[0m\n\u001b[0;32m    104\u001b[0m \u001b[39massert\u001b[39;00m(\u001b[39mlen\u001b[39m(hyps) \u001b[39m==\u001b[39m \u001b[39mlen\u001b[39m(refs))\n\u001b[0;32m    106\u001b[0m \u001b[39mif\u001b[39;00m \u001b[39mnot\u001b[39;00m avg:\n\u001b[1;32m--> 107\u001b[0m     \u001b[39mreturn\u001b[39;00m \u001b[39mself\u001b[39;49m\u001b[39m.\u001b[39;49m_get_scores(hyps, refs)\n\u001b[0;32m    108\u001b[0m \u001b[39mreturn\u001b[39;00m \u001b[39mself\u001b[39m\u001b[39m.\u001b[39m_get_avg_scores(hyps, refs)\n",
      "File \u001b[1;32mc:\\Users\\minem\\AppData\\Local\\Programs\\Python\\Python310\\lib\\site-packages\\rouge\\rouge.py:120\u001b[0m, in \u001b[0;36mRouge._get_scores\u001b[1;34m(self, hyps, refs)\u001b[0m\n\u001b[0;32m    118\u001b[0m \u001b[39mfor\u001b[39;00m m \u001b[39min\u001b[39;00m \u001b[39mself\u001b[39m\u001b[39m.\u001b[39mmetrics:\n\u001b[0;32m    119\u001b[0m     fn \u001b[39m=\u001b[39m Rouge\u001b[39m.\u001b[39mAVAILABLE_METRICS[m]\n\u001b[1;32m--> 120\u001b[0m     sc \u001b[39m=\u001b[39m fn(\n\u001b[0;32m    121\u001b[0m         hyp,\n\u001b[0;32m    122\u001b[0m         ref,\n\u001b[0;32m    123\u001b[0m         raw_results\u001b[39m=\u001b[39;49m\u001b[39mself\u001b[39;49m\u001b[39m.\u001b[39;49mraw_results,\n\u001b[0;32m    124\u001b[0m         exclusive\u001b[39m=\u001b[39;49m\u001b[39mself\u001b[39;49m\u001b[39m.\u001b[39;49mexclusive)\n\u001b[0;32m    125\u001b[0m     sen_score[m] \u001b[39m=\u001b[39m {s: sc[s] \u001b[39mfor\u001b[39;00m s \u001b[39min\u001b[39;00m \u001b[39mself\u001b[39m\u001b[39m.\u001b[39mstats}\n\u001b[0;32m    127\u001b[0m \u001b[39mif\u001b[39;00m \u001b[39mself\u001b[39m\u001b[39m.\u001b[39mreturn_lengths:\n",
      "File \u001b[1;32mc:\\Users\\minem\\AppData\\Local\\Programs\\Python\\Python310\\lib\\site-packages\\rouge\\rouge.py:53\u001b[0m, in \u001b[0;36mRouge.<lambda>\u001b[1;34m(hyp, ref, **k)\u001b[0m\n\u001b[0;32m     50\u001b[0m \u001b[39mclass\u001b[39;00m \u001b[39mRouge\u001b[39;00m:\n\u001b[0;32m     51\u001b[0m     DEFAULT_METRICS \u001b[39m=\u001b[39m [\u001b[39m\"\u001b[39m\u001b[39mrouge-1\u001b[39m\u001b[39m\"\u001b[39m, \u001b[39m\"\u001b[39m\u001b[39mrouge-2\u001b[39m\u001b[39m\"\u001b[39m, \u001b[39m\"\u001b[39m\u001b[39mrouge-l\u001b[39m\u001b[39m\"\u001b[39m]\n\u001b[0;32m     52\u001b[0m     AVAILABLE_METRICS \u001b[39m=\u001b[39m {\n\u001b[1;32m---> 53\u001b[0m         \u001b[39m\"\u001b[39m\u001b[39mrouge-1\u001b[39m\u001b[39m\"\u001b[39m: \u001b[39mlambda\u001b[39;00m hyp, ref, \u001b[39m*\u001b[39m\u001b[39m*\u001b[39mk: rouge_score\u001b[39m.\u001b[39mrouge_n(hyp, ref, \u001b[39m1\u001b[39m, \u001b[39m*\u001b[39m\u001b[39m*\u001b[39mk),\n\u001b[0;32m     54\u001b[0m         \u001b[39m\"\u001b[39m\u001b[39mrouge-2\u001b[39m\u001b[39m\"\u001b[39m: \u001b[39mlambda\u001b[39;00m hyp, ref, \u001b[39m*\u001b[39m\u001b[39m*\u001b[39mk: rouge_score\u001b[39m.\u001b[39mrouge_n(hyp, ref, \u001b[39m2\u001b[39m, \u001b[39m*\u001b[39m\u001b[39m*\u001b[39mk),\n\u001b[0;32m     55\u001b[0m         \u001b[39m\"\u001b[39m\u001b[39mrouge-3\u001b[39m\u001b[39m\"\u001b[39m: \u001b[39mlambda\u001b[39;00m hyp, ref, \u001b[39m*\u001b[39m\u001b[39m*\u001b[39mk: rouge_score\u001b[39m.\u001b[39mrouge_n(hyp, ref, \u001b[39m3\u001b[39m, \u001b[39m*\u001b[39m\u001b[39m*\u001b[39mk),\n\u001b[0;32m     56\u001b[0m         \u001b[39m\"\u001b[39m\u001b[39mrouge-4\u001b[39m\u001b[39m\"\u001b[39m: \u001b[39mlambda\u001b[39;00m hyp, ref, \u001b[39m*\u001b[39m\u001b[39m*\u001b[39mk: rouge_score\u001b[39m.\u001b[39mrouge_n(hyp, ref, \u001b[39m4\u001b[39m, \u001b[39m*\u001b[39m\u001b[39m*\u001b[39mk),\n\u001b[0;32m     57\u001b[0m         \u001b[39m\"\u001b[39m\u001b[39mrouge-5\u001b[39m\u001b[39m\"\u001b[39m: \u001b[39mlambda\u001b[39;00m hyp, ref, \u001b[39m*\u001b[39m\u001b[39m*\u001b[39mk: rouge_score\u001b[39m.\u001b[39mrouge_n(hyp, ref, \u001b[39m5\u001b[39m, \u001b[39m*\u001b[39m\u001b[39m*\u001b[39mk),\n\u001b[0;32m     58\u001b[0m         \u001b[39m\"\u001b[39m\u001b[39mrouge-l\u001b[39m\u001b[39m\"\u001b[39m: \u001b[39mlambda\u001b[39;00m hyp, ref, \u001b[39m*\u001b[39m\u001b[39m*\u001b[39mk:\n\u001b[0;32m     59\u001b[0m             rouge_score\u001b[39m.\u001b[39mrouge_l_summary_level(hyp, ref, \u001b[39m*\u001b[39m\u001b[39m*\u001b[39mk),\n\u001b[0;32m     60\u001b[0m     }\n\u001b[0;32m     61\u001b[0m     DEFAULT_STATS \u001b[39m=\u001b[39m [\u001b[39m\"\u001b[39m\u001b[39mr\u001b[39m\u001b[39m\"\u001b[39m, \u001b[39m\"\u001b[39m\u001b[39mp\u001b[39m\u001b[39m\"\u001b[39m, \u001b[39m\"\u001b[39m\u001b[39mf\u001b[39m\u001b[39m\"\u001b[39m]\n\u001b[0;32m     62\u001b[0m     AVAILABLE_STATS \u001b[39m=\u001b[39m [\u001b[39m\"\u001b[39m\u001b[39mr\u001b[39m\u001b[39m\"\u001b[39m, \u001b[39m\"\u001b[39m\u001b[39mp\u001b[39m\u001b[39m\"\u001b[39m, \u001b[39m\"\u001b[39m\u001b[39mf\u001b[39m\u001b[39m\"\u001b[39m]\n",
      "File \u001b[1;32mc:\\Users\\minem\\AppData\\Local\\Programs\\Python\\Python310\\lib\\site-packages\\rouge\\rouge_score.py:253\u001b[0m, in \u001b[0;36mrouge_n\u001b[1;34m(evaluated_sentences, reference_sentences, n, raw_results, exclusive)\u001b[0m\n\u001b[0;32m    235\u001b[0m \u001b[39m\"\"\"\u001b[39;00m\n\u001b[0;32m    236\u001b[0m \u001b[39mComputes ROUGE-N of two text collections of sentences.\u001b[39;00m\n\u001b[0;32m    237\u001b[0m \u001b[39mSourece: http://research.microsoft.com/en-us/um/people/cyl/download/\u001b[39;00m\n\u001b[1;32m   (...)\u001b[0m\n\u001b[0;32m    250\u001b[0m \u001b[39m  ValueError: raises exception if a param has len <= 0\u001b[39;00m\n\u001b[0;32m    251\u001b[0m \u001b[39m\"\"\"\u001b[39;00m\n\u001b[0;32m    252\u001b[0m \u001b[39mif\u001b[39;00m \u001b[39mlen\u001b[39m(evaluated_sentences) \u001b[39m<\u001b[39m\u001b[39m=\u001b[39m \u001b[39m0\u001b[39m:\n\u001b[1;32m--> 253\u001b[0m     \u001b[39mraise\u001b[39;00m \u001b[39mValueError\u001b[39;00m(\u001b[39m\"\u001b[39m\u001b[39mHypothesis is empty.\u001b[39m\u001b[39m\"\u001b[39m)\n\u001b[0;32m    254\u001b[0m \u001b[39mif\u001b[39;00m \u001b[39mlen\u001b[39m(reference_sentences) \u001b[39m<\u001b[39m\u001b[39m=\u001b[39m \u001b[39m0\u001b[39m:\n\u001b[0;32m    255\u001b[0m     \u001b[39mraise\u001b[39;00m \u001b[39mValueError\u001b[39;00m(\u001b[39m\"\u001b[39m\u001b[39mReference is empty.\u001b[39m\u001b[39m\"\u001b[39m)\n",
      "\u001b[1;31mValueError\u001b[0m: Hypothesis is empty."
     ]
    }
   ],
   "source": [
    "r.get_scores(model_summary1,reference1)"
   ]
  },
  {
   "cell_type": "code",
   "execution_count": null,
   "metadata": {},
   "outputs": [],
   "source": [
    "r.get_scores(model_summary2,reference2)"
   ]
  },
  {
   "cell_type": "code",
   "execution_count": null,
   "metadata": {},
   "outputs": [],
   "source": [
    "r.get_scores(model_summary3,reference3)"
   ]
  },
  {
   "cell_type": "code",
   "execution_count": null,
   "metadata": {},
   "outputs": [],
   "source": [
    "r.get_scores(model_summary4,reference4)"
   ]
  },
  {
   "cell_type": "code",
   "execution_count": null,
   "metadata": {},
   "outputs": [],
   "source": [
    "r.get_scores(model_summary6,reference6)"
   ]
  },
  {
   "cell_type": "code",
   "execution_count": null,
   "metadata": {},
   "outputs": [],
   "source": [
    "r.get_scores(model_summary8,reference8)"
   ]
  },
  {
   "cell_type": "code",
   "execution_count": null,
   "metadata": {},
   "outputs": [],
   "source": [
    "r.get_scores(model_summary9,reference9)"
   ]
  },
  {
   "cell_type": "code",
   "execution_count": null,
   "metadata": {},
   "outputs": [],
   "source": [
    "r.get_scores(model_summary10,reference10)"
   ]
  },
  {
   "cell_type": "code",
   "execution_count": null,
   "metadata": {},
   "outputs": [],
   "source": [
    "r.get_scores(model_summary11,reference11)"
   ]
  },
  {
   "cell_type": "code",
   "execution_count": null,
   "metadata": {},
   "outputs": [],
   "source": []
  }
 ],
 "metadata": {
  "kernelspec": {
   "display_name": "Python 3.10.5 64-bit",
   "language": "python",
   "name": "python3"
  },
  "language_info": {
   "codemirror_mode": {
    "name": "ipython",
    "version": 3
   },
   "file_extension": ".py",
   "mimetype": "text/x-python",
   "name": "python",
   "nbconvert_exporter": "python",
   "pygments_lexer": "ipython3",
   "version": "3.10.5"
  },
  "orig_nbformat": 4,
  "vscode": {
   "interpreter": {
    "hash": "0334ea6ff030685dad5974c320cdaf623bb3aafa06c1ab73f81d05a29addd0ed"
   }
  }
 },
 "nbformat": 4,
 "nbformat_minor": 2
}
