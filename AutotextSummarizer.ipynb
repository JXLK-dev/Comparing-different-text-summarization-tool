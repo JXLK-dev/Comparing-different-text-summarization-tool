{
 "cells": [
  {
   "cell_type": "code",
   "execution_count": 2,
   "metadata": {},
   "outputs": [],
   "source": [
    "from rouge import Rouge"
   ]
  },
  {
   "cell_type": "code",
   "execution_count": 14,
   "metadata": {},
   "outputs": [],
   "source": [
    "reference1 = \"The messages will be \\\"unwrapped\\\" by sculptor Richard Wentworth, who is responsible for decorating the tree with broken plates and light bulbs.A Christmas tree that can receive text messages has been unveiled at London's Tate Britain art gallery.It is the 17th year that the gallery has invited an artist to dress their Christmas tree.The spruce has an antenna which can receive Bluetooth texts sent by visitors to the Tate.His reputation as a sculptor grew in the 1980s, while he has been one of the most influential teachers during the last two decades.\"\n",
    "reference2= \"Bloom is to be formally presented with the Hans Christian Andersen Award this spring in Anderson's hometown of Odense.Later at a gala dinner, Danish supermodel Helena Christensen was named a Hans Christian Andersen ambassador.French musician Jean-Michel Jarre is to perform at a concert in Copenhagen to mark the bicentennial of the birth of writer Hans Christian Andersen.\\\"Christian Andersen's fairy tales are timeless and universal,\\\" said Jarre.The royal couple also visited the Hans Christian Anderson School complex, where Queen Mary read The Ugly Duckling to the young audience.\\\"Bloom recognizes the darker aspects of Andersen's authorship,\\\" Prince Frederik said.\"\n",
    "reference3= \"The classic film It's A Wonderful Life is to be turned into a musical by the producer of the controversial hit show Jerry Springer - The Opera.Mr Thoday said the idea of turning the film into a musical had been an ambition of his for almost 20 years.Mr Thoday managed to buy the rights to the story from Van Doren Stern's family in 1999, following Mr Brown's success with Spend Spend Spend.He is working with Steve Brown, who wrote the award-winning musical Spend Spend Spend.\"\n",
    "reference4= \"\\\"It was very hard to follow last year's extremely successful list, but we think this year's books will do even better,\\\" said Richard and Judy executive producer Amanda Ross.The 10 authors shortlisted for a Richard and Judy book award in 2005 are hoping for a boost in sales following the success of this year's winner.The best read award, on Richard Madeley and Judy Finnigan's Channel 4 show, is part of the British Book Awards.\\\"There's no doubt that this year's selection of book club entries is the best yet.The TV couple's interest in the book world coined the term \\\"the Richard & Judy effect\\\" and created the top two best-selling paperbacks of 2004 so far.\"\n",
    "reference6= \"The History Boys by Alan Bennett has been named best new play in the Critics' Circle Theatre Awards.The Producers was named best musical, Victoria Hamilton was best actress for Suddenly Last Summer and Festen's Rufus Norris was named best director.The History Boys also won the best new comedy title at the Theatregoers' Choice Awards.Diana Rigg was best actress for Suddenly Last Summer, Dame Judi Dench was best supporting actress for the RSC's All's Well That Ends Well and The History Boys' Samuel Barnett was best supporting actor.\"\n",
    "reference8= \"Meanwhile, Richard Griffiths, who plays Hector in The History Boys at the National Theatre, will battle it out for the best actor award with Douglas Hodge (Dumb Show) and Stanley Townsend (Shining City).The Milton Shulman Award for outstanding newcomer will be presented to Dominic Cooper (His Dark Materials and The History Boys), Romola Garai (Calico), Eddie Redmayne (The Goat, or Who is Sylvia?)by Edward Albee, The Pillowman by Martin McDonagh and Alan Bennett's The History Boys are shortlisted in the best play category.The Producers, starring Nathan Lane and Lee Evans, is up for best musical at the ceremony at the National Theatre.Ferris - best known for her television roles in programmes such as The Darling Buds of May - has made the shortlist for her role in Notes on Falling Leaves, at the Royal Court Theatre.Festen is also shortlisted in the best designer category where Ian MacNeil, Jean Kalman and Paul Arditti will be up against Hildegard Bechtler, for Iphigenia at Aulis, and Paul Brown, for False Servant.\"\n",
    "reference9= \"Despite enjoying Dan Brown's conspiracy theory, the Bishop said there was a lack of evidence to back up its claims.A great deal of credible evidence proves the Biblical version of Jesus' life was true, according to the Bishop.The Da Vinci Code has been translated into 42 languages and has spawned its own cottage industry of publications, including guides on to how to read the book, rebuttals and counter claims.The plot of an international bestseller that thousands of readers are likely to receive as a Christmas present is 'laughable', a clergyman has said.The book, which has become an international best-seller in little over two years, is set to be made into a film starring Tom Hanks.Brown's book has become a publishing phenomenon, consistently topping book charts in the UK and US.\"\n",
    "reference10= \"She said the play is being produced and performed by Ugandan women and it is not being forced on them.But the organisers of the play say it raises awareness of sexual abuse against women.\\\"The play promotes illegal, unnatural sexual acts, homosexuality and prostitution, it should be and is hereby banned,\\\" the council's ruling said.Uganda's authorities have banned the play The Vagina Monologues, due to open in the capital, Kampala this weekend.The four Ugandan NGOs organising the play intended to raise money to campaign to stop violence against women and to raise funds for the war-torn north of the country.\\\"There is obviously some fear of the vagina and saying the word vagina,\\\" Ms Ensler told the BBC.\"\n",
    "reference11= \"Ms Bradburn said there was a big queue at the start of the sale but it had now gone down.She said the people that had bought the famous name postcards had arrived early and had spent time studying each work.The famous sale is now in its 11th year.Money raised from the sale will go towards the RCA's Fine Art Student Award Fund which supports students with grants and bursaries.Film director Ken Loach, fashion designer Hussein Chalayan and former Blur guitarist Graham Coxon have all designed postcards for the sale.Postcards by artists including Damien Hirst and Tracey Emin have sold just hours after the opening of the Royal Academy of Arts annual Secrets sale.\"\n",
    "\n",
    "\n",
    "model_summary1 = \"Gallery unveils interactive tree A Christmas tree that can receive text messages has been unveiled at London's Tate Britain art gallery. The messages will be \\\"unwrapped\\\" by sculptor Richard Wentworth, who is responsible for decorating the tree with broken plates and light bulbs. It is the 17th year that the gallery has invited an artist to dress their Christmas tree. Artists who have decorated the Tate tree in previous years include Tracey Emin in 2002.\"\n",
    "model_summary2 = \"French musician Jean-Michel Jarre is to perform at a concert in Copenhagen to mark the bicentennial of the birth of writer Hans Christian Andersen. \\\"Christian Andersen's fairy tales are timeless and universal,\\\" said Jarre.There are year-long celebrations planned across the world to celebrate Andersen and his work, which includes The Emperor's New Clothes and The Little Mermaid. Bloom is to be formally presented with the Hans Christian Andersen Award this spring in Anderson's hometown of Odense. Later at a gala dinner, Danish supermodel Helena Christensen was named a Hans Christian Andersen ambassador.\"\n",
    "model_summary3 = \"Musical treatment for Capra film The classic film It's A Wonderful Life is to be turned into a musical by the producer of the controversial hit show Jerry Springer - The Opera. He is working with Steve Brown, who wrote the award-winning musical Spend Spend Spend. Mr Thoday said the idea of turning the film into a musical had been an ambition of his for almost 20 years. Mr Thoday managed to buy the rights to the story from Van Doren Stern's family in 1999, following Mr Brown's success with Spend Spend Spend.\"\n",
    "model_summary4 = \"Richard and Judy choose top books The 10 authors shortlisted for a Richard and Judy book award in 2005 are hoping for a boost in sales following the success of this year's winner. The TV couple's interest in the book world coined the term \\\"the Richard & Judy effect\\\" and created the top two best-selling paperbacks of 2004 so far. The best read award, on Richard Madeley and Judy Finnigan's Channel 4 show, is part of the British Book Awards. \\\"It was very hard to follow last year's extremely successful list, but we think this year's books will do even better,\\\" said Richard and Judy executive producer Amanda Ross.\"\n",
    "model_summary6 = \"The History Boys by Alan Bennett has been named best new play in the Critics' Circle Theatre Awards. The Producers was named best musical, Victoria Hamilton was best actress for Suddenly Last Summer and Festen's Rufus Norris was named best director. The History Boys also won the best new comedy title at the Theatregoers' Choice Awards. Paul Rhys was its best Shakespearean performer for Measure for Measure at the National Theatre and Christopher Oram won the design award for Suddenly Last Summer. Chosen by more than 11,000 theatre fans, the Theatregoers' Choice Awards named US actor Christian Slater best actor for One Flew Over the Cuckoo's Nest. Diana Rigg was best actress for Suddenly Last Summer, Dame Judi Dench was best supporting actress for the RSC's All's Well That Ends Well and The History Boys' Samuel Barnett was best supporting actor.\"\n",
    "model_summary8 = \"The West End is honouring its finest stars and shows at the Evening Standard Theatre Awards in London on Monday. by Edward Albee, The Pillowman by Martin McDonagh and Alan Bennett's The History Boys are shortlisted in the best play category. Ferris - best known for her television roles in programmes such as The Darling Buds of May - has made the shortlist for her role in Notes on Falling Leaves, at the Royal Court Theatre. Meanwhile, Richard Griffiths, who plays Hector in The History Boys at the National Theatre, will battle it out for the best actor award with Douglas Hodge and Stanley Townsend . Festen is also shortlisted in the best designer category where Ian MacNeil, Jean Kalman and Paul Arditti will be up against Hildegard Bechtler, for Iphigenia at Aulis, and Paul Brown, for False Servant.\"\n",
    "model_summary9 = \"Despite enjoying Dan Brown's conspiracy theory, the Bishop said there was a lack of evidence to back up its claims. Writing his Christmas message in the Northern Echo, the Bishop said: \\\"Conspiracy theories are always fun - fun to invent, fun to read, fun to fantasise about. A great deal of credible evidence proves the Biblical version of Jesus' life was true, according to the Bishop. Brown's book has become a publishing phenomenon, consistently topping book charts in the UK and US. The Da Vinci Code has been translated into 42 languages and has spawned its own cottage industry of publications, including guides on to how to read the book, rebuttals and counter claims. The book, which has become an international best-seller in little over two years, is set to be made into a film starring Tom Hanks.\"\n",
    "model_summary10 = \"Uganda's authorities have banned the play The Vagina Monologues, due to open in the capital, Kampala this weekend. But the organisers of the play say it raises awareness of sexual abuse against women. The four Ugandan NGOs organising the play intended to raise money to campaign to stop violence against women and to raise funds for the war-torn north of the country. \\\"I'm extremely outraged at the hypocrisy,\\\" the play's organiser in Uganda, Sarah Mukasa, told the BBC's Focus on Africa programme. \\\"I'm amazed that this country Uganda gives the impression that it is progressive and supports women's rights and the notions of free speech; yet when women want to share their stories the government uses the apparatus of state to shut us up.\\\"\"\n",
    "model_summary11 = \"Artists' secret postcards on sale Postcards by artists including Damien Hirst and Tracey Emin have sold just hours after the opening of the Royal Academy of Arts annual Secrets sale. All postcards are priced at £35. The sale opened at 8am on Friday and will close at 6pm on Saturday. Some of the contributing artists are students or recent graduates of the Royal College of Art and other leading art colleges. Money raised from the sale will go towards the RCA's Fine Art Student Award Fund which supports students with grants and bursaries.\"\n",
    "\n",
    "modelarray = [model_summary1,model_summary2,model_summary3,model_summary4,model_summary6,model_summary8,model_summary9,model_summary10,model_summary11]\n",
    "\n",
    "referencearray = [reference1,reference2,reference3,reference4,reference6,reference8,reference9,reference10,reference11]\n",
    "r = Rouge()\n"
   ]
  },
  {
   "cell_type": "code",
   "execution_count": 15,
   "metadata": {},
   "outputs": [
    {
     "data": {
      "text/plain": [
       "[{'rouge-1': {'r': 0.6619718309859155,\n",
       "   'p': 0.7966101694915254,\n",
       "   'f': 0.7230769181195267},\n",
       "  'rouge-2': {'r': 0.5760869565217391,\n",
       "   'p': 0.726027397260274,\n",
       "   'f': 0.642424237490542},\n",
       "  'rouge-l': {'r': 0.647887323943662,\n",
       "   'p': 0.7796610169491526,\n",
       "   'f': 0.7076923027349112}}]"
      ]
     },
     "execution_count": 15,
     "metadata": {},
     "output_type": "execute_result"
    }
   ],
   "source": [
    "r.get_scores(model_summary1,reference1)"
   ]
  },
  {
   "cell_type": "code",
   "execution_count": 16,
   "metadata": {},
   "outputs": [
    {
     "data": {
      "text/plain": [
       "[{'rouge-1': {'r': 0.7027027027027027,\n",
       "   'p': 0.7647058823529411,\n",
       "   'f': 0.73239436120611},\n",
       "  'rouge-2': {'r': 0.6559139784946236,\n",
       "   'p': 0.7093023255813954,\n",
       "   'f': 0.6815642408177024},\n",
       "  'rouge-l': {'r': 0.6891891891891891, 'p': 0.75, 'f': 0.7183098541638565}}]"
      ]
     },
     "execution_count": 16,
     "metadata": {},
     "output_type": "execute_result"
    }
   ],
   "source": [
    "r.get_scores(model_summary2,reference2)"
   ]
  },
  {
   "cell_type": "code",
   "execution_count": 17,
   "metadata": {},
   "outputs": [
    {
     "data": {
      "text/plain": [
       "[{'rouge-1': {'r': 1.0, 'p': 0.9538461538461539, 'f': 0.9763779477586956},\n",
       "  'rouge-2': {'r': 0.9753086419753086,\n",
       "   'p': 0.9186046511627907,\n",
       "   'f': 0.9461077794356197},\n",
       "  'rouge-l': {'r': 1.0, 'p': 0.9538461538461539, 'f': 0.9763779477586956}}]"
      ]
     },
     "execution_count": 17,
     "metadata": {},
     "output_type": "execute_result"
    }
   ],
   "source": [
    "r.get_scores(model_summary3,reference3)"
   ]
  },
  {
   "cell_type": "code",
   "execution_count": 18,
   "metadata": {},
   "outputs": [
    {
     "data": {
      "text/plain": [
       "[{'rouge-1': {'r': 0.9069767441860465,\n",
       "   'p': 0.9873417721518988,\n",
       "   'f': 0.9454545404635446},\n",
       "  'rouge-2': {'r': 0.8558558558558559,\n",
       "   'p': 0.9405940594059405,\n",
       "   'f': 0.8962264101054646},\n",
       "  'rouge-l': {'r': 0.9069767441860465,\n",
       "   'p': 0.9873417721518988,\n",
       "   'f': 0.9454545404635446}}]"
      ]
     },
     "execution_count": 18,
     "metadata": {},
     "output_type": "execute_result"
    }
   ],
   "source": [
    "r.get_scores(model_summary4,reference4)"
   ]
  },
  {
   "cell_type": "code",
   "execution_count": 19,
   "metadata": {},
   "outputs": [
    {
     "data": {
      "text/plain": [
       "[{'rouge-1': {'r': 1.0, 'p': 0.691358024691358, 'f': 0.8175182433416804},\n",
       "  'rouge-2': {'r': 0.9863013698630136,\n",
       "   'p': 0.6260869565217392,\n",
       "   'f': 0.765957442058058},\n",
       "  'rouge-l': {'r': 1.0, 'p': 0.691358024691358, 'f': 0.8175182433416804}}]"
      ]
     },
     "execution_count": 19,
     "metadata": {},
     "output_type": "execute_result"
    }
   ],
   "source": [
    "r.get_scores(model_summary6,reference6)"
   ]
  },
  {
   "cell_type": "code",
   "execution_count": 20,
   "metadata": {},
   "outputs": [
    {
     "data": {
      "text/plain": [
       "[{'rouge-1': {'r': 0.7083333333333334,\n",
       "   'p': 0.8762886597938144,\n",
       "   'f': 0.7834101333050182},\n",
       "  'rouge-2': {'r': 0.6560509554140127,\n",
       "   'p': 0.8110236220472441,\n",
       "   'f': 0.725352107731849},\n",
       "  'rouge-l': {'r': 0.7083333333333334,\n",
       "   'p': 0.8762886597938144,\n",
       "   'f': 0.7834101333050182}}]"
      ]
     },
     "execution_count": 20,
     "metadata": {},
     "output_type": "execute_result"
    }
   ],
   "source": [
    "r.get_scores(model_summary8,reference8)"
   ]
  },
  {
   "cell_type": "code",
   "execution_count": 21,
   "metadata": {},
   "outputs": [
    {
     "data": {
      "text/plain": [
       "[{'rouge-1': {'r': 0.8829787234042553,\n",
       "   'p': 0.8469387755102041,\n",
       "   'f': 0.8645833283355036},\n",
       "  'rouge-2': {'r': 0.8015267175572519,\n",
       "   'p': 0.8015267175572519,\n",
       "   'f': 0.8015267125572519},\n",
       "  'rouge-l': {'r': 0.8723404255319149,\n",
       "   'p': 0.8367346938775511,\n",
       "   'f': 0.8541666616688369}}]"
      ]
     },
     "execution_count": 21,
     "metadata": {},
     "output_type": "execute_result"
    }
   ],
   "source": [
    "r.get_scores(model_summary9,reference9)"
   ]
  },
  {
   "cell_type": "code",
   "execution_count": 22,
   "metadata": {},
   "outputs": [
    {
     "data": {
      "text/plain": [
       "[{'rouge-1': {'r': 0.5875, 'p': 0.5402298850574713, 'f': 0.5628742465057909},\n",
       "  'rouge-2': {'r': 0.5, 'p': 0.47058823529411764, 'f': 0.4848484798530762},\n",
       "  'rouge-l': {'r': 0.5875, 'p': 0.5402298850574713, 'f': 0.5628742465057909}}]"
      ]
     },
     "execution_count": 22,
     "metadata": {},
     "output_type": "execute_result"
    }
   ],
   "source": [
    "r.get_scores(model_summary10,reference10)"
   ]
  },
  {
   "cell_type": "code",
   "execution_count": 23,
   "metadata": {},
   "outputs": [
    {
     "data": {
      "text/plain": [
       "[{'rouge-1': {'r': 0.4731182795698925,\n",
       "   'p': 0.6567164179104478,\n",
       "   'f': 0.5499999951320312},\n",
       "  'rouge-2': {'r': 0.40350877192982454,\n",
       "   'p': 0.5168539325842697,\n",
       "   'f': 0.4532019655191827},\n",
       "  'rouge-l': {'r': 0.4731182795698925,\n",
       "   'p': 0.6567164179104478,\n",
       "   'f': 0.5499999951320312}}]"
      ]
     },
     "execution_count": 23,
     "metadata": {},
     "output_type": "execute_result"
    }
   ],
   "source": [
    "r.get_scores(model_summary11,reference11)"
   ]
  },
  {
   "cell_type": "code",
   "execution_count": 24,
   "metadata": {},
   "outputs": [
    {
     "data": {
      "text/plain": [
       "{'rouge-1': {'r': 0.7692868460202384,\n",
       "  'p': 0.7904484156450905,\n",
       "  'f': 0.7728544126853225},\n",
       " 'rouge-2': {'r': 0.7122836941790699,\n",
       "  'p': 0.7245119886016692,\n",
       "  'f': 0.7108010417298608},\n",
       " 'rouge-l': {'r': 0.7650383661948932,\n",
       "  'p': 0.7857974026975385,\n",
       "  'f': 0.7684226583415963}}"
      ]
     },
     "execution_count": 24,
     "metadata": {},
     "output_type": "execute_result"
    }
   ],
   "source": [
    "r.get_scores(modelarray,referencearray, avg=True)"
   ]
  },
  {
   "cell_type": "code",
   "execution_count": null,
   "metadata": {},
   "outputs": [],
   "source": []
  }
 ],
 "metadata": {
  "kernelspec": {
   "display_name": "Python 3.10.5 64-bit",
   "language": "python",
   "name": "python3"
  },
  "language_info": {
   "codemirror_mode": {
    "name": "ipython",
    "version": 3
   },
   "file_extension": ".py",
   "mimetype": "text/x-python",
   "name": "python",
   "nbconvert_exporter": "python",
   "pygments_lexer": "ipython3",
   "version": "3.10.5"
  },
  "orig_nbformat": 4,
  "vscode": {
   "interpreter": {
    "hash": "0334ea6ff030685dad5974c320cdaf623bb3aafa06c1ab73f81d05a29addd0ed"
   }
  }
 },
 "nbformat": 4,
 "nbformat_minor": 2
}
