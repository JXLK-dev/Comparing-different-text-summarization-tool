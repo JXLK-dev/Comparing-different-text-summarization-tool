{
 "cells": [
  {
   "cell_type": "code",
   "execution_count": 1,
   "id": "e5ac022f",
   "metadata": {},
   "outputs": [],
   "source": [
    "from rouge import Rouge"
   ]
  },
  {
   "cell_type": "code",
   "execution_count": 2,
   "id": "6ee5fbe7",
   "metadata": {},
   "outputs": [],
   "source": [
    "# 1\n",
    "model_out1 = \"A Christmas tree that can receive text messages has been unveiled at London's Tate Britain art gallery. The messages will be «unwrapped» by sculptor Richard Wentworth, who is responsible for decorating the tree with broken plates and light bulbs. It is the 17th year that the gallery has invited an artist to dress their Christmas tree. Artists who have decorated the Tate tree in previous years include Tracey Emin in 2002. The plain green Norway spruce is displayed in the gallery's foyer. His reputation as a sculptor grew in the 1980s, while he has been one of the most influential teachers during the last two decades.\"\n",
    "\n",
    "reference1 = \"The messages will be \\\"unwrapped\\\" by sculptor Richard Wentworth, who is responsible for decorating the tree with broken plates and light bulbs.A Christmas tree that can receive text messages has been unveiled at London's Tate Britain art gallery.It is the 17th year that the gallery has invited an artist to dress their Christmas tree.The spruce has an antenna which can receive Bluetooth texts sent by visitors to the Tate.His reputation as a sculptor grew in the 1980s, while he has been one of the most influential teachers during the last two decades.\""
   ]
  },
  {
   "cell_type": "code",
   "execution_count": 3,
   "id": "5a334e7d",
   "metadata": {},
   "outputs": [],
   "source": [
    "rouge = Rouge()"
   ]
  },
  {
   "cell_type": "code",
   "execution_count": 4,
   "id": "d3864a68",
   "metadata": {},
   "outputs": [
    {
     "data": {
      "text/plain": [
       "{'rouge-1': {'r': 0.9014084507042254, 'p': 0.8, 'f': 0.8476821142230605},\n",
       " 'rouge-2': {'r': 0.7934782608695652,\n",
       "  'p': 0.7156862745098039,\n",
       "  'f': 0.752577314600914},\n",
       " 'rouge-l': {'r': 0.9014084507042254, 'p': 0.8, 'f': 0.8476821142230605}}"
      ]
     },
     "execution_count": 4,
     "metadata": {},
     "output_type": "execute_result"
    }
   ],
   "source": [
    "rouge.get_scores(model_out1, reference1)"
   ]
  },
  {
   "cell_type": "code",
   "execution_count": 5,
   "id": "243d39bd",
   "metadata": {},
   "outputs": [
    {
     "data": {
      "text/plain": [
       "{'rouge-1': {'r': 0.8783783783783784,\n",
       "  'p': 0.9701492537313433,\n",
       "  'f': 0.9219858106151603},\n",
       " 'rouge-2': {'r': 0.8172043010752689,\n",
       "  'p': 0.9156626506024096,\n",
       "  'f': 0.8636363586525052},\n",
       " 'rouge-l': {'r': 0.8783783783783784,\n",
       "  'p': 0.9701492537313433,\n",
       "  'f': 0.9219858106151603}}"
      ]
     },
     "execution_count": 5,
     "metadata": {},
     "output_type": "execute_result"
    }
   ],
   "source": [
    "# 2\n",
    "model_out2 = \"French musician Jean-Michel Jarre is to perform at a concert in Copenhagen to mark the bicentennial of the birth of writer Hans Christian Andersen. «Bloom recognizes the darker aspects of Andersen's authorship,» Prince Frederik said. Bloom is to be formally presented with the Hans Christian Andersen Award this spring in Anderson's hometown of Odense. The royal couple also visited the Hans Christian Anderson School complex, where Queen Mary read The Ugly Duckling to the young audience. Later at a gala dinner, Danish supermodel Helena Christensen was named a Hans Christian Andersen ambassador.\"\n",
    "\n",
    "reference2= \"Bloom is to be formally presented with the Hans Christian Andersen Award this spring in Anderson's hometown of Odense.Later at a gala dinner, Danish supermodel Helena Christensen was named a Hans Christian Andersen ambassador.French musician Jean-Michel Jarre is to perform at a concert in Copenhagen to mark the bicentennial of the birth of writer Hans Christian Andersen.\\\"Christian Andersen's fairy tales are timeless and universal,\\\" said Jarre.The royal couple also visited the Hans Christian Anderson School complex, where Queen Mary read The Ugly Duckling to the young audience.\\\"Bloom recognizes the darker aspects of Andersen's authorship,\\\" Prince Frederik said.\"\n",
    "rouge.get_scores(model_out2, reference2)"
   ]
  },
  {
   "cell_type": "code",
   "execution_count": 7,
   "id": "c5e50046",
   "metadata": {},
   "outputs": [
    {
     "data": {
      "text/plain": [
       "[{'rouge-1': {'r': 0.7096774193548387, 'p': 0.6875, 'f': 0.6984126934139583},\n",
       "  'rouge-2': {'r': 0.5802469135802469,\n",
       "   'p': 0.5662650602409639,\n",
       "   'f': 0.5731707267080608},\n",
       "  'rouge-l': {'r': 0.6935483870967742,\n",
       "   'p': 0.671875,\n",
       "   'f': 0.6825396775409424}}]"
      ]
     },
     "execution_count": 7,
     "metadata": {},
     "output_type": "execute_result"
    }
   ],
   "source": [
    "# 3\n",
    "model_out3 = \"Musical treatment for Capra film. Mr Thoday said the idea of turning the film into a musical had been an ambition of his for almost 20 years. It's a Wonderful Life was based on a short story, The Greatest Gift, by Philip van Doren Stern. Mr Thoday managed to buy the rights to the story from Van Doren Stern's family in 1999, following Mr Brown's success with Spend Spend Spend. He later secured the film rights from Paramount, enabling them to use the title It's A Wonderful Life.\"\n",
    "\n",
    "reference3= \"The classic film It's A Wonderful Life is to be turned into a musical by the producer of the controversial hit show Jerry Springer - The Opera.Mr Thoday said the idea of turning the film into a musical had been an ambition of his for almost 20 years.Mr Thoday managed to buy the rights to the story from Van Doren Stern's family in 1999, following Mr Brown's success with Spend Spend Spend.He is working with Steve Brown, who wrote the award-winning musical Spend Spend Spend.\"\n",
    "rouge.get_scores(model_out3, reference3)"
   ]
  },
  {
   "cell_type": "code",
   "execution_count": 12,
   "id": "1d1e49ac",
   "metadata": {},
   "outputs": [
    {
     "data": {
      "text/plain": [
       "[{'rouge-1': {'r': 0.6976744186046512,\n",
       "   'p': 0.9230769230769231,\n",
       "   'f': 0.7947019818516732},\n",
       "  'rouge-2': {'r': 0.5855855855855856,\n",
       "   'p': 0.8333333333333334,\n",
       "   'f': 0.6878306829831193},\n",
       "  'rouge-l': {'r': 0.6976744186046512,\n",
       "   'p': 0.9230769230769231,\n",
       "   'f': 0.7947019818516732}}]"
      ]
     },
     "execution_count": 12,
     "metadata": {},
     "output_type": "execute_result"
    }
   ],
   "source": [
    "# 4\n",
    "model_out4 = \"Richard and Judy choose top books. The TV couple's interest in the book world coined the term «the Richard & Judy effect» and created the top two best-selling paperbacks of 2004 so far. The best read award, on Richard Madeley and Judy Finnigan's Channel 4 show, is part of the British Book Awards. «It was very hard to follow last year's extremely successful list, but we think this year's books will do even better,» said Richard and Judy executive producer Amanda Ross.\"\n",
    "\n",
    "reference4= \"\\\"It was very hard to follow last year's extremely successful list, but we think this year's books will do even better,\\\" said Richard and Judy executive producer Amanda Ross.The 10 authors shortlisted for a Richard and Judy book award in 2005 are hoping for a boost in sales following the success of this year's winner.The best read award, on Richard Madeley and Judy Finnigan's Channel 4 show, is part of the British Book Awards.\\\"There's no doubt that this year's selection of book club entries is the best yet.The TV couple's interest in the book world coined the term \\\"the Richard & Judy effect\\\" and created the top two best-selling paperbacks of 2004 so far.\"\n",
    "rouge.get_scores(model_out4, reference4)"
   ]
  },
  {
   "cell_type": "code",
   "execution_count": 16,
   "id": "716e98d7",
   "metadata": {},
   "outputs": [
    {
     "data": {
      "text/plain": [
       "[{'rouge-1': {'r': 0.6785714285714286,\n",
       "   'p': 0.5135135135135135,\n",
       "   'f': 0.5846153797112428},\n",
       "  'rouge-2': {'r': 0.4657534246575342,\n",
       "   'p': 0.3541666666666667,\n",
       "   'f': 0.40236685899793434},\n",
       "  'rouge-l': {'r': 0.625, 'p': 0.47297297297297297, 'f': 0.5384615335573965}}]"
      ]
     },
     "execution_count": 16,
     "metadata": {},
     "output_type": "execute_result"
    }
   ],
   "source": [
    "# 6\n",
    "model_out6 = \"Bennett play takes theatre prizes. Set in a grammar school, the play also earned a best actor prize for star Richard Griffiths as teacher Hector. Partly based upon Alan Bennett's experience as a teacher, The History Boys has been at London's National Theatre since last May. Paul Rhys was its best Shakespearean performer for Measure for Measure at the National Theatre and Christopher Oram won the design award for Suddenly Last Summer. Diana Rigg was best actress for Suddenly Last Summer, Dame Judi Dench was best supporting actress for the RSC's All's Well That Ends Well and The History Boys' Samuel Barnett was best supporting actor.\"\n",
    "\n",
    "reference6= \"The History Boys by Alan Bennett has been named best new play in the Critics' Circle Theatre Awards.The Producers was named best musical, Victoria Hamilton was best actress for Suddenly Last Summer and Festen's Rufus Norris was named best director.The History Boys also won the best new comedy title at the Theatregoers' Choice Awards.Diana Rigg was best actress for Suddenly Last Summer, Dame Judi Dench was best supporting actress for the RSC's All's Well That Ends Well and The History Boys' Samuel Barnett was best supporting actor.\"\n",
    "rouge.get_scores(model_out6, reference6)"
   ]
  },
  {
   "cell_type": "code",
   "execution_count": 17,
   "id": "cb22a485",
   "metadata": {},
   "outputs": [
    {
     "data": {
      "text/plain": [
       "[{'rouge-1': {'r': 0.525, 'p': 0.8289473684210527, 'f': 0.6428571381091214},\n",
       "  'rouge-2': {'r': 0.4840764331210191,\n",
       "   'p': 0.7450980392156863,\n",
       "   'f': 0.5868725820980607},\n",
       "  'rouge-l': {'r': 0.525, 'p': 0.8289473684210527, 'f': 0.6428571381091214}}]"
      ]
     },
     "execution_count": 17,
     "metadata": {},
     "output_type": "execute_result"
    }
   ],
   "source": [
    "# 8\n",
    "model_out8 = \"West End to honour finest shows. The West End is honouring its finest stars and shows at the Evening Standard Theatre Awards in London on Monday. The Producers, starring Nathan Lane and Lee Evans, is up for best musical at the ceremony at the National Theatre. Ferris - best known for her television roles in programmes such as The Darling Buds of May - has made the shortlist for her role in Notes on Falling Leaves, at the Royal Court Theatre. Meanwhile, Richard Griffiths, who plays Hector in The History Boys at the National Theatre, will battle it out for the best actor award with Douglas Hodge and Stanley Townsend .\"\n",
    "\n",
    "reference8= \"Meanwhile, Richard Griffiths, who plays Hector in The History Boys at the National Theatre, will battle it out for the best actor award with Douglas Hodge (Dumb Show) and Stanley Townsend (Shining City).The Milton Shulman Award for outstanding newcomer will be presented to Dominic Cooper (His Dark Materials and The History Boys), Romola Garai (Calico), Eddie Redmayne (The Goat, or Who is Sylvia?)by Edward Albee, The Pillowman by Martin McDonagh and Alan Bennett's The History Boys are shortlisted in the best play category.The Producers, starring Nathan Lane and Lee Evans, is up for best musical at the ceremony at the National Theatre.Ferris - best known for her television roles in programmes such as The Darling Buds of May - has made the shortlist for her role in Notes on Falling Leaves, at the Royal Court Theatre.Festen is also shortlisted in the best designer category where Ian MacNeil, Jean Kalman and Paul Arditti will be up against Hildegard Bechtler, for Iphigenia at Aulis, and Paul Brown, for False Servant.\"\n",
    "rouge.get_scores(model_out8, reference8)"
   ]
  },
  {
   "cell_type": "code",
   "execution_count": 18,
   "id": "4b9f82ea",
   "metadata": {},
   "outputs": [
    {
     "data": {
      "text/plain": [
       "[{'rouge-1': {'r': 0.6382978723404256,\n",
       "   'p': 0.5309734513274337,\n",
       "   'f': 0.5797101399696609},\n",
       "  'rouge-2': {'r': 0.5267175572519084,\n",
       "   'p': 0.45098039215686275,\n",
       "   'f': 0.48591548798775047},\n",
       "  'rouge-l': {'r': 0.6382978723404256,\n",
       "   'p': 0.5309734513274337,\n",
       "   'f': 0.5797101399696609}}]"
      ]
     },
     "execution_count": 18,
     "metadata": {},
     "output_type": "execute_result"
    }
   ],
   "source": [
    "# 9\n",
    "model_out9 = \"Da Vinci Code is 'lousy history'. The Da Vinci Code claims Jesus was not crucified, but married Mary Magdalene and died a normal death. The Bishop of Durham, the Rt Rev Dr Tom Wright, described the novel as a «great thriller» but «lousy history». Despite enjoying Dan Brown's conspiracy theory, the Bishop said there was a lack of evidence to back up its claims. Dan Brown is the best writer I've come across in the genre, but anyone who knows anything about 1st century history will see that this underlying material is laughable. « A great deal of credible evidence proves the Biblical version of Jesus' life was true, according to the Bishop. »The evidence for Jesus and the origins of Christianity is astonishingly good,« he said. » The Da Vinci Code has been translated into 42 languages and has spawned its own cottage industry of publications, including guides on to how to read the book, rebuttals and counter claims.\"\n",
    "\n",
    "reference9= \"Despite enjoying Dan Brown's conspiracy theory, the Bishop said there was a lack of evidence to back up its claims.A great deal of credible evidence proves the Biblical version of Jesus' life was true, according to the Bishop.The Da Vinci Code has been translated into 42 languages and has spawned its own cottage industry of publications, including guides on to how to read the book, rebuttals and counter claims.The plot of an international bestseller that thousands of readers are likely to receive as a Christmas present is 'laughable', a clergyman has said.The book, which has become an international best-seller in little over two years, is set to be made into a film starring Tom Hanks.Brown's book has become a publishing phenomenon, consistently topping book charts in the UK and US.\"\n",
    "rouge.get_scores(model_out9, reference9)"
   ]
  },
  {
   "cell_type": "code",
   "execution_count": 19,
   "id": "cd35d670",
   "metadata": {},
   "outputs": [
    {
     "data": {
      "text/plain": [
       "[{'rouge-1': {'r': 0.6125, 'p': 0.3712121212121212, 'f': 0.4622641462442151},\n",
       "  'rouge-2': {'r': 0.5178571428571429,\n",
       "   'p': 0.3352601156069364,\n",
       "   'f': 0.4070175390887042},\n",
       "  'rouge-l': {'r': 0.6, 'p': 0.36363636363636365, 'f': 0.4528301839800641}}]"
      ]
     },
     "execution_count": 19,
     "metadata": {},
     "output_type": "execute_result"
    }
   ],
   "source": [
    "# 10\n",
    "model_out10 = \"Uganda bans Vagina Monologues. The show, which has been a controversial sell-out around the world, explores female sexuality and strength through individual women telling their stories through monologues. Some parliamentarians and church leaders are also siding with the Media Council, Uganda's New Vision newspaper reports. «The play is obscene and pornographic although it was under the guise of women's liberation,» MP Kefa Ssempgani told parliament. But the work's author, US playwright Eve Ensler, says it is all about women's empowerment. «There is obviously some fear of the vagina and saying the word vagina,» Ms Ensler told the BBC. «It's not a slang word or dirty word it's a biological, anatomical word.» She said the play is being produced and performed by Ugandan women and it is not being forced on them. The four Ugandan NGOs organising the play intended to raise money to campaign to stop violence against women and to raise funds for the war-torn north of the country. «I'm extremely outraged at the hypocrisy,» the play's organiser in Uganda, Sarah Mukasa, told the BBC's Focus on Africa programme.\"\n",
    "\n",
    "reference10= \"She said the play is being produced and performed by Ugandan women and it is not being forced on them.But the organisers of the play say it raises awareness of sexual abuse against women.\\\"The play promotes illegal, unnatural sexual acts, homosexuality and prostitution, it should be and is hereby banned,\\\" the council's ruling said.Uganda's authorities have banned the play The Vagina Monologues, due to open in the capital, Kampala this weekend.The four Ugandan NGOs organising the play intended to raise money to campaign to stop violence against women and to raise funds for the war-torn north of the country.\\\"There is obviously some fear of the vagina and saying the word vagina,\\\" Ms Ensler told the BBC.\"\n",
    "rouge.get_scores(model_out10, reference10)"
   ]
  },
  {
   "cell_type": "code",
   "execution_count": 20,
   "id": "70b7a44f",
   "metadata": {},
   "outputs": [
    {
     "data": {
      "text/plain": [
       "[{'rouge-1': {'r': 0.8279569892473119,\n",
       "   'p': 0.8555555555555555,\n",
       "   'f': 0.8415300496461525},\n",
       "  'rouge-2': {'r': 0.8070175438596491,\n",
       "   'p': 0.773109243697479,\n",
       "   'f': 0.7896995658177532},\n",
       "  'rouge-l': {'r': 0.8279569892473119,\n",
       "   'p': 0.8555555555555555,\n",
       "   'f': 0.8415300496461525}}]"
      ]
     },
     "execution_count": 20,
     "metadata": {},
     "output_type": "execute_result"
    }
   ],
   "source": [
    "# 11\n",
    "model_out11 = \"Artists' secret postcards on sale. Postcards by artists including Damien Hirst and Tracey Emin have sold just hours after the opening of the Royal Academy of Arts annual Secrets sale. All postcards are priced at £35. The sale opened at 8am on Friday and will close at 6pm on Saturday. Ms Bradburn said there was a big queue at the start of the sale but it had now gone down. She said the people that had bought the famous name postcards had arrived early and had spent time studying each work. Money raised from the sale will go towards the RCA's Fine Art Student Award Fund which supports students with grants and bursaries. The famous sale is now in its 11th year.\"\n",
    "\n",
    "reference11= \"Ms Bradburn said there was a big queue at the start of the sale but it had now gone down.She said the people that had bought the famous name postcards had arrived early and had spent time studying each work.The famous sale is now in its 11th year.Money raised from the sale will go towards the RCA's Fine Art Student Award Fund which supports students with grants and bursaries.Film director Ken Loach, fashion designer Hussein Chalayan and former Blur guitarist Graham Coxon have all designed postcards for the sale.Postcards by artists including Damien Hirst and Tracey Emin have sold just hours after the opening of the Royal Academy of Arts annual Secrets sale.\"\n",
    "rouge.get_scores(model_out11, reference11)"
   ]
  },
  {
   "cell_type": "code",
   "execution_count": null,
   "id": "5896c5c5",
   "metadata": {},
   "outputs": [],
   "source": []
  }
 ],
 "metadata": {
  "kernelspec": {
   "display_name": "Python 3 (ipykernel)",
   "language": "python",
   "name": "python3"
  },
  "language_info": {
   "codemirror_mode": {
    "name": "ipython",
    "version": 3
   },
   "file_extension": ".py",
   "mimetype": "text/x-python",
   "name": "python",
   "nbconvert_exporter": "python",
   "pygments_lexer": "ipython3",
   "version": "3.10.4"
  }
 },
 "nbformat": 4,
 "nbformat_minor": 5
}
