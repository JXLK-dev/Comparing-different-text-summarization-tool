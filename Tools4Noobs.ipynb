{
 "cells": [
  {
   "cell_type": "code",
   "execution_count": 9,
   "id": "8eb8e448",
   "metadata": {},
   "outputs": [],
   "source": [
    "from rouge import Rouge "
   ]
  },
  {
   "cell_type": "code",
   "execution_count": 10,
   "id": "d88011ce",
   "metadata": {},
   "outputs": [],
   "source": [
    "#1\n",
    "reference1 = \"The messages will be \\\"unwrapped\\\" by sculptor Richard Wentworth, who is responsible for decorating the tree with broken plates and light bulbs.A Christmas tree that can receive text messages has been unveiled at London's Tate Britain art gallery.It is the 17th year that the gallery has invited an artist to dress their Christmas tree.The spruce has an antenna which can receive Bluetooth texts sent by visitors to the Tate.His reputation as a sculptor grew in the 1980s, while he has been one of the most influential teachers during the last two decades.\"\n",
    "hypothesis1 = \"A Christmas tree that can receive text messages has been unveiled at London's Tate Britain art gallery. The spruce has an antenna which can receive Bluetooth texts sent by visitors to the Tate. It is the 17th year that the gallery has invited an artist to dress their Christmas tree. The plates decorating the branches will be auctioned off for the children's charity Artworks. Artists who have decorated the Tate tree in previous years include Tracey Emin in 2002.The plain green Norway spruce is displayed in the gallery's foyer.\""
   ]
  },
  {
   "cell_type": "code",
   "execution_count": 11,
   "id": "0dc7222b",
   "metadata": {},
   "outputs": [],
   "source": [
    "rouge = Rouge()"
   ]
  },
  {
   "cell_type": "code",
   "execution_count": 12,
   "id": "2ca772bb",
   "metadata": {
    "scrolled": false
   },
   "outputs": [
    {
     "data": {
      "text/plain": [
       "{'rouge-1': {'r': 0.1643835616438356,\n",
       "  'p': 0.18461538461538463,\n",
       "  'f': 0.1739130384950642},\n",
       " 'rouge-2': {'r': 0.021505376344086023,\n",
       "  'p': 0.023255813953488372,\n",
       "  'f': 0.02234636372273137},\n",
       " 'rouge-l': {'r': 0.1643835616438356,\n",
       "  'p': 0.18461538461538463,\n",
       "  'f': 0.1739130384950642}}"
      ]
     },
     "execution_count": 12,
     "metadata": {},
     "output_type": "execute_result"
    }
   ],
   "source": [
    "rouge.get_scores(hypothesis1, reference1, avg=True)"
   ]
  },
  {
   "cell_type": "code",
   "execution_count": 13,
   "id": "c48f24ad",
   "metadata": {},
   "outputs": [
    {
     "data": {
      "text/plain": [
       "{'rouge-1': {'r': 0.7837837837837838,\n",
       "  'p': 0.9508196721311475,\n",
       "  'f': 0.8592592543056242},\n",
       " 'rouge-2': {'r': 0.7526881720430108,\n",
       "  'p': 0.9210526315789473,\n",
       "  'f': 0.8284023619144989},\n",
       " 'rouge-l': {'r': 0.7837837837837838,\n",
       "  'p': 0.9508196721311475,\n",
       "  'f': 0.8592592543056242}}"
      ]
     },
     "execution_count": 13,
     "metadata": {},
     "output_type": "execute_result"
    }
   ],
   "source": [
    "#2\n",
    "reference2= \"Bloom is to be formally presented with the Hans Christian Andersen Award this spring in Anderson's hometown of Odense.Later at a gala dinner, Danish supermodel Helena Christensen was named a Hans Christian Andersen ambassador.French musician Jean-Michel Jarre is to perform at a concert in Copenhagen to mark the bicentennial of the birth of writer Hans Christian Andersen.\\\"Christian Andersen's fairy tales are timeless and universal,\\\" said Jarre.The royal couple also visited the Hans Christian Anderson School complex, where Queen Mary read The Ugly Duckling to the young audience.\\\"Bloom recognizes the darker aspects of Andersen's authorship,\\\" Prince Frederik said.\"\n",
    "hypothesis2 = \"Jarre joins fairytale celebration French musician Jean-Michel Jarre is to perform at a concert in Copenhagen to mark the bicentennial of the birth of writer Hans Christian Andersen.The royal couple also visited the Hans Christian Anderson School complex, where Queen Mary read The Ugly Duckling to the young audience.Bloom is to be formally presented with the Hans Christian Andersen Award this spring in Anderson's hometown of Odense.Later at a gala dinner, Danish supermodel Helena Christensen was named a Hans Christian Andersen ambassador.\"\n",
    "rouge.get_scores(hypothesis2, reference2, avg=True)"
   ]
  },
  {
   "cell_type": "code",
   "execution_count": 21,
   "id": "25936683",
   "metadata": {},
   "outputs": [
    {
     "data": {
      "text/plain": [
       "{'rouge-1': {'r': 0.8225806451612904,\n",
       "  'p': 0.6296296296296297,\n",
       "  'f': 0.7132867083749818},\n",
       " 'rouge-2': {'r': 0.7530864197530864,\n",
       "  'p': 0.5350877192982456,\n",
       "  'f': 0.625641020784221},\n",
       " 'rouge-l': {'r': 0.8064516129032258,\n",
       "  'p': 0.6172839506172839,\n",
       "  'f': 0.6993006943889678}}"
      ]
     },
     "execution_count": 21,
     "metadata": {},
     "output_type": "execute_result"
    }
   ],
   "source": [
    "#3\n",
    "reference3= \"The classic film It's A Wonderful Life is to be turned into a musical by the producer of the controversial hit show Jerry Springer - The Opera.Mr Thoday said the idea of turning the film into a musical had been an ambition of his for almost 20 years.Mr Thoday managed to buy the rights to the story from Van Doren Stern's family in 1999, following Mr Brown's success with Spend Spend Spend.He is working with Steve Brown, who wrote the award-winning musical Spend Spend Spend.\"\n",
    "hypothesis3 = \"He later secured the film rights from Paramount, enabling them to use the title It's A Wonderful Life. He is working with Steve Brown, who wrote the award-winning musical Spend Spend Spend. Mr Thoday managed to buy the rights to the story from Van Doren Stern's family in 1999, following Mr Brown's success with Spend Spend Spend. Musical treatment for Capra film The classic film It's A Wonderful Life is to be turned into a musical by the producer of the controversial hit show Jerry Springer - The Opera. It's a Wonderful Life was based on a short story, The Greatest Gift, by Philip van Doren Stern. Frank Capra's 1946 movie starring James Stewart, is being turned into a £7m musical by producer Jon Thoday.\"\n",
    "rouge.get_scores(hypothesis3, reference3, avg=True)"
   ]
  },
  {
   "cell_type": "code",
   "execution_count": 15,
   "id": "c1e9e54b",
   "metadata": {},
   "outputs": [
    {
     "data": {
      "text/plain": [
       "{'rouge-1': {'r': 0.5581395348837209,\n",
       "  'p': 0.9795918367346939,\n",
       "  'f': 0.7111111064866943},\n",
       " 'rouge-2': {'r': 0.45045045045045046,\n",
       "  'p': 0.9090909090909091,\n",
       "  'f': 0.60240963412324},\n",
       " 'rouge-l': {'r': 0.5465116279069767,\n",
       "  'p': 0.9591836734693877,\n",
       "  'f': 0.6962962916718792}}"
      ]
     },
     "execution_count": 15,
     "metadata": {},
     "output_type": "execute_result"
    }
   ],
   "source": [
    "#4\n",
    "reference4= \"\\\"It was very hard to follow last year's extremely successful list, but we think this year's books will do even better,\\\" said Richard and Judy executive producer Amanda Ross.The 10 authors shortlisted for a Richard and Judy book award in 2005 are hoping for a boost in sales following the success of this year's winner.The best read award, on Richard Madeley and Judy Finnigan's Channel 4 show, is part of the British Book Awards.\\\"There's no doubt that this year's selection of book club entries is the best yet.The TV couple's interest in the book world coined the term \\\"the Richard & Judy effect\\\" and created the top two best-selling paperbacks of 2004 so far.\"\n",
    "hypothesis4 = \"Richard and Judy choose top books The 10 authors shortlisted for a Richard and Judy book award in 2005 are hoping for a boost in sales following the success of this year's winner \\\"It was very hard to follow last year's extremely successful list, but we think this year's books will do even better,\\\" said Richard and Judy executive producer Amanda Ross.\"\n",
    "rouge.get_scores(hypothesis4, reference4, avg=True)"
   ]
  },
  {
   "cell_type": "code",
   "execution_count": 16,
   "id": "9ce92a98",
   "metadata": {},
   "outputs": [
    {
     "data": {
      "text/plain": [
       "{'rouge-1': {'r': 0.4642857142857143,\n",
       "  'p': 0.4727272727272727,\n",
       "  'f': 0.4684684634688743},\n",
       " 'rouge-2': {'r': 0.3013698630136986,\n",
       "  'p': 0.30985915492957744,\n",
       "  'f': 0.3055555505565201},\n",
       " 'rouge-l': {'r': 0.44642857142857145,\n",
       "  'p': 0.45454545454545453,\n",
       "  'f': 0.4504504454508563}}"
      ]
     },
     "execution_count": 16,
     "metadata": {},
     "output_type": "execute_result"
    }
   ],
   "source": [
    "#6\n",
    "reference6= \"The History Boys by Alan Bennett has been named best new play in the Critics' Circle Theatre Awards.The Producers was named best musical, Victoria Hamilton was best actress for Suddenly Last Summer and Festen's Rufus Norris was named best director.The History Boys also won the best new comedy title at the Theatregoers' Choice Awards.Diana Rigg was best actress for Suddenly Last Summer, Dame Judi Dench was best supporting actress for the RSC's All's Well That Ends Well and The History Boys' Samuel Barnett was best supporting actor.\"\n",
    "hypothesis6 = \"The Critics' Circle named Rebecca Lenkiewicz its most promising playwright for The Night Season, and Eddie Redmayne most promising newcomer for The Goat or, Who is Sylvia? Paul Rhys was its best Shakespearean performer for Measure for Measure at the National Theatre and Christopher Oram won the design award for Suddenly Last Summer.Bennett play takes theatre prizes The History Boys by Alan Bennett has been named best new play in the Critics' Circle Theatre Awards.\"\n",
    "rouge.get_scores(hypothesis6, reference6, avg=True)"
   ]
  },
  {
   "cell_type": "code",
   "execution_count": 22,
   "id": "d0863efb",
   "metadata": {},
   "outputs": [
    {
     "data": {
      "text/plain": [
       "{'rouge-1': {'r': 0.675, 'p': 0.84375, 'f': 0.7499999950617285},\n",
       " 'rouge-2': {'r': 0.6305732484076433,\n",
       "  'p': 0.7615384615384615,\n",
       "  'f': 0.6898954654275273},\n",
       " 'rouge-l': {'r': 0.675, 'p': 0.84375, 'f': 0.7499999950617285}}"
      ]
     },
     "execution_count": 22,
     "metadata": {},
     "output_type": "execute_result"
    }
   ],
   "source": [
    "#8\n",
    "reference8= \"Meanwhile, Richard Griffiths, who plays Hector in The History Boys at the National Theatre, will battle it out for the best actor award with Douglas Hodge (Dumb Show) and Stanley Townsend (Shining City).The Milton Shulman Award for outstanding newcomer will be presented to Dominic Cooper (His Dark Materials and The History Boys), Romola Garai (Calico), Eddie Redmayne (The Goat, or Who is Sylvia?)by Edward Albee, The Pillowman by Martin McDonagh and Alan Bennett's The History Boys are shortlisted in the best play category.The Producers, starring Nathan Lane and Lee Evans, is up for best musical at the ceremony at the National Theatre.Ferris - best known for her television roles in programmes such as The Darling Buds of May - has made the shortlist for her role in Notes on Falling Leaves, at the Royal Court Theatre.Festen is also shortlisted in the best designer category where Ian MacNeil, Jean Kalman and Paul Arditti will be up against Hildegard Bechtler, for Iphigenia at Aulis, and Paul Brown, for False Servant.\"\n",
    "hypothesis8 = \"West End to honour finest shows The West End is honouring its finest stars and shows at the Evening Standard Theatre Awards in London on Monday. The Producers, starring Nathan Lane and Lee Evans, is up for best musical at the ceremony at the National Theatre. by Edward Albee, The Pillowman by Martin McDonagh and Alan Bennett's The History Boys are shortlisted in the best play category. Meanwhile, Richard Griffiths, who plays Hector in The History Boys at the National Theatre, will battle it out for the best actor award with Douglas Hodge (Dumb Show) and Stanley Townsend (Shining City). The Goat or Who is Sylvia? Ferris - best known for her television roles in programmes such as The Darling Buds of May - has made the shortlist for her role in Notes on Falling Leaves, at the Royal Court Theatre.\"\n",
    "rouge.get_scores(hypothesis8, reference8, avg=True)"
   ]
  },
  {
   "cell_type": "code",
   "execution_count": 23,
   "id": "b3cdbae5",
   "metadata": {},
   "outputs": [
    {
     "data": {
      "text/plain": [
       "{'rouge-1': {'r': 0.776595744680851, 'p': 0.73, 'f': 0.7525773145924114},\n",
       " 'rouge-2': {'r': 0.7099236641221374,\n",
       "  'p': 0.6838235294117647,\n",
       "  'f': 0.6966292084848996},\n",
       " 'rouge-l': {'r': 0.776595744680851, 'p': 0.73, 'f': 0.7525773145924114}}"
      ]
     },
     "execution_count": 23,
     "metadata": {},
     "output_type": "execute_result"
    }
   ],
   "source": [
    "#9\n",
    "reference9= \"Despite enjoying Dan Brown's conspiracy theory, the Bishop said there was a lack of evidence to back up its claims.A great deal of credible evidence proves the Biblical version of Jesus' life was true, according to the Bishop.The Da Vinci Code has been translated into 42 languages and has spawned its own cottage industry of publications, including guides on to how to read the book, rebuttals and counter claims.The plot of an international bestseller that thousands of readers are likely to receive as a Christmas present is 'laughable', a clergyman has said.The book, which has become an international best-seller in little over two years, is set to be made into a film starring Tom Hanks.Brown's book has become a publishing phenomenon, consistently topping book charts in the UK and US.\"\n",
    "hypothesis9= \"Da Vinci Code is 'lousy history' The plot of an international bestseller that thousands of readers are likely to receive as a Christmas present is 'laughable', a clergyman has said. The Da Vinci Code claims Jesus was not crucified, but married Mary Magdalene and died a normal death. Brown's book has become a publishing phenomenon, consistently topping book charts in the UK and US. Writing his Christmas message in the Northern Echo, the Bishop said: \\\"Conspiracy theories are always fun - fun to invent, fun to read, fun to fantasise about. The Da Vinci Code has been translated into 42 languages and has spawned its own cottage industry of publications, including guides on to how to read the book, rebuttals and counter claims. The book, which has become an international best-seller in little over two years, is set to be made into a film starring Tom Hanks.\"\n",
    "rouge.get_scores(hypothesis9, reference9, avg=True)"
   ]
  },
  {
   "cell_type": "code",
   "execution_count": 19,
   "id": "7ea392f3",
   "metadata": {},
   "outputs": [
    {
     "data": {
      "text/plain": [
       "{'rouge-1': {'r': 0.8, 'p': 0.5333333333333333, 'f': 0.6399999952000001},\n",
       " 'rouge-2': {'r': 0.7232142857142857,\n",
       "  'p': 0.49693251533742333,\n",
       "  'f': 0.589090904262876},\n",
       " 'rouge-l': {'r': 0.8, 'p': 0.5333333333333333, 'f': 0.6399999952000001}}"
      ]
     },
     "execution_count": 19,
     "metadata": {},
     "output_type": "execute_result"
    }
   ],
   "source": [
    "#10\n",
    "reference10= \"She said the play is being produced and performed by Ugandan women and it is not being forced on them.But the organisers of the play say it raises awareness of sexual abuse against women.\\\"The play promotes illegal, unnatural sexual acts, homosexuality and prostitution, it should be and is hereby banned,\\\" the council's ruling said.Uganda's authorities have banned the play The Vagina Monologues, due to open in the capital, Kampala this weekend.The four Ugandan NGOs organising the play intended to raise money to campaign to stop violence against women and to raise funds for the war-torn north of the country.\\\"There is obviously some fear of the vagina and saying the word vagina,\\\" Ms Ensler told the BBC.\"\n",
    "hypothesis10 = \"The four Ugandan NGOs organising the play intended to raise money to campaign to stop violence against women and to raise funds for the war-torn north of the country. \\\"It\\'s not a slang word or dirty word it's a biological, anatomical word.\\\" She said the play is being produced and performed by Ugandan women and it is not being forced on them. Uganda bans Vagina Monologues Uganda's authorities have banned the play The Vagina Monologues, due to open in the capital, Kampala this weekend. \\\"The play promotes illegal, unnatural sexual acts, homosexuality and prostitution, it should be and is hereby banned,\\\" the council's ruling said. \\\"The play is obscene and pornographic although it was under the guise of women's liberation,\\\" MP Kefa Ssempgani told parliament. \\\"I'm extremely outraged at the hypocrisy,\\\" the play's organiser in Uganda, Sarah Mukasa, told the BBC's Focus on Africa programme. The show, which has been a controversial sell-out around the world, explores female sexuality and strength through individual women telling their stories through monologues.\"\n",
    "rouge.get_scores(hypothesis10, reference10, avg=True)"
   ]
  },
  {
   "cell_type": "code",
   "execution_count": 20,
   "id": "fd7b46cb",
   "metadata": {},
   "outputs": [
    {
     "data": {
      "text/plain": [
       "{'rouge-1': {'r': 0.43010752688172044,\n",
       "  'p': 0.9302325581395349,\n",
       "  'f': 0.588235289793469},\n",
       " 'rouge-2': {'r': 0.39473684210526316, 'p': 0.9, 'f': 0.5487804835663296},\n",
       " 'rouge-l': {'r': 0.43010752688172044,\n",
       "  'p': 0.9302325581395349,\n",
       "  'f': 0.588235289793469}}"
      ]
     },
     "execution_count": 20,
     "metadata": {},
     "output_type": "execute_result"
    }
   ],
   "source": [
    "#11\n",
    "reference11= \"Ms Bradburn said there was a big queue at the start of the sale but it had now gone down.She said the people that had bought the famous name postcards had arrived early and had spent time studying each work.The famous sale is now in its 11th year.Money raised from the sale will go towards the RCA's Fine Art Student Award Fund which supports students with grants and bursaries.Film director Ken Loach, fashion designer Hussein Chalayan and former Blur guitarist Graham Coxon have all designed postcards for the sale.Postcards by artists including Damien Hirst and Tracey Emin have sold just hours after the opening of the Royal Academy of Arts annual Secrets sale.\"\n",
    "hypothesis11 = \"Artists' secret postcards on sale Postcards by artists including Damien Hirst and Tracey Emin have sold just hours after the opening of the Royal Academy of Arts annual Secrets sale. Film director Ken Loach, fashion designer Hussein Chalayan and former Blur guitarist Graham Coxon have all designed postcards for the sale.\"\n",
    "rouge.get_scores(hypothesis11, reference11, avg=True)"
   ]
  }
 ],
 "metadata": {
  "kernelspec": {
   "display_name": "Python 3 (ipykernel)",
   "language": "python",
   "name": "python3"
  },
  "language_info": {
   "codemirror_mode": {
    "name": "ipython",
    "version": 3
   },
   "file_extension": ".py",
   "mimetype": "text/x-python",
   "name": "python",
   "nbconvert_exporter": "python",
   "pygments_lexer": "ipython3",
   "version": "3.9.7"
  }
 },
 "nbformat": 4,
 "nbformat_minor": 5
}
