{
 "cells": [
  {
   "cell_type": "code",
   "execution_count": 3,
   "metadata": {},
   "outputs": [],
   "source": [
    "from rouge import Rouge\n",
    "rouge = Rouge()"
   ]
  },
  {
   "cell_type": "code",
   "execution_count": 4,
   "metadata": {},
   "outputs": [
    {
     "data": {
      "text/plain": [
       "{'rouge-1': {'r': 0.547945205479452,\n",
       "  'p': 0.547945205479452,\n",
       "  'f': 0.547945200479452},\n",
       " 'rouge-2': {'r': 0.30526315789473685,\n",
       "  'p': 0.3118279569892473,\n",
       "  'f': 0.30851063329843825},\n",
       " 'rouge-l': {'r': 0.4794520547945205,\n",
       "  'p': 0.4794520547945205,\n",
       "  'f': 0.47945204979452055}}"
      ]
     },
     "execution_count": 4,
     "metadata": {},
     "output_type": "execute_result"
    }
   ],
   "source": [
    "#1\n",
    "reference1 = \"For the first time, Claxton has solely been training for a race over hurdles, which would account for her dramatic improvement in form. For the previous three years, Claxton has won the national 60-meter hurdles championship, but she has had trouble carrying her home success to the international level. The European Indoor Championships will be held in Madrid next month, and British hurdler Sarah Claxton is optimistic she can bring home her first major medal. Claxton will test the effectiveness of her new training regimen at the European Indoors, which are scheduled for March 5 and 6. \"\n",
    "hypothesis1 = \"For the first time, Claxton has only been preparing for a campaign over the hurdles - which could explain her leap in form. Claxton has won the national 60m hurdles title for the past three years but has struggled to translate her domestic success to the international stage. British hurdler Sarah Claxton is confident she can win her first major medal at next month's European Indoor Championships in Madrid. Claxton will see if her new training regime pays dividends at the European Indoors which take place on 5-6 March. \\‘I am quite confident,\\’ said Claxton.\"\n",
    "rouge.get_scores(hypothesis1 , reference1, avg=True)"
   ]
  },
  {
   "cell_type": "code",
   "execution_count": 5,
   "metadata": {
    "scrolled": true
   },
   "outputs": [
    {
     "data": {
      "text/plain": [
       "{'rouge-1': {'r': 0.5769230769230769,\n",
       "  'p': 0.569620253164557,\n",
       "  'f': 0.573248402643515},\n",
       " 'rouge-2': {'r': 0.3119266055045872,\n",
       "  'p': 0.3300970873786408,\n",
       "  'f': 0.32075471198513716},\n",
       " 'rouge-l': {'r': 0.3974358974358974,\n",
       "  'p': 0.3924050632911392,\n",
       "  'f': 0.39490445359892895}}"
      ]
     },
     "execution_count": 5,
     "metadata": {},
     "output_type": "execute_result"
    }
   ],
   "source": [
    "#2\n",
    "reference2= \"Jarre participates in the fairytale festival The bicentennial of author Hans Christian Andersen's birth will be celebrated in Copenhagen with a concert featuring French musician Jean-Michel Jarre. Helena Christensen, a Danish supermodel, was later made a Hans Christian Andersen ambassador during a gala banquet. Crown Prince Frederik and Crown Princess Mary of Denmark paid a visit to New York on Monday to support the celebrations. The Danish royal family will attend, and further celebrities are anticipated to be added to the lineup in the coming months. This April in Anderson's hometown of Odense, Bloom will receive the Hans Christian Andersen Award in person. Fairy stories of Christian Andersen are timeless and accessible, according to Jarre\"\n",
    "hypothesis2 = \"Jarre joins fairytale celebration French musician Jean-Michel Jarre is to perform at a concert in Copenhagen to mark the bicentennial of the birth of writer Hans Christian Andersen. Later at a gala dinner, Danish supermodel Helena Christensen was named a Hans Christian Andersen ambassador. Denmark's Crown Prince Frederik and Crown Princess Mary visited New York on Monday to help promote the festivities. Other stars are expected to join the line-up in the coming months, and the Danish royal family will attend. Bloom is to be formally presented with the Hans Christian Andersen Award this spring in Anderson's hometown of Odense. \\\"Christian Andersen's fairy tales are timeless and universal,\\\" said Jarre.\"\n",
    "rouge.get_scores(hypothesis2, reference2, avg=True)"
   ]
  },
  {
   "cell_type": "code",
   "execution_count": 6,
   "metadata": {},
   "outputs": [
    {
     "data": {
      "text/plain": [
       "{'rouge-1': {'r': 0.6712328767123288,\n",
       "  'p': 0.6712328767123288,\n",
       "  'f': 0.6712328717123288},\n",
       " 'rouge-2': {'r': 0.3723404255319149,\n",
       "  'p': 0.3645833333333333,\n",
       "  'f': 0.368421047632133},\n",
       " 'rouge-l': {'r': 0.5205479452054794,\n",
       "  'p': 0.5205479452054794,\n",
       "  'f': 0.5205479402054796}}"
      ]
     },
     "execution_count": 6,
     "metadata": {},
     "output_type": "execute_result"
    }
   ],
   "source": [
    "#3\n",
    "reference3= \"a musical score for a Capra movie The creator of the contentious smash program Jerry Springer - The Opera will adapt the classic movie It's A Wonderful Life into a musical. In 1999, Mr. Thoday acquired the story's rights from Van Doren Stern's family thanks to Mr. Brown's success with Spend Spend Spend. James Stewart-starring 1946 film by Frank Capra is being remade as a £7 million musical by producer Jon Thoday. A cast of singers presented the musical to a small group of possible financiers on Wednesday after a series of workshops were performed in London.\"\n",
    "hypothesis3 = \"Musical treatment for Capra film The classic film It's A Wonderful Life is to be turned into a musical by the producer of the controversial hit show Jerry Springer - The Opera.Mr Thoday managed to buy the rights to the story from Van Doren Stern's family in 1999, following Mr Brown's success with Spend Spend Spend.Frank Capra's 1946 movie starring James Stewart, is being turned into a £7m musical by producer Jon Thoday.A series of workshops have been held in London, and on Wednesday a cast of singers unveiled the musical to a select group of potential investors.\"\n",
    "rouge.get_scores(hypothesis3, reference3, avg=True)"
   ]
  },
  {
   "cell_type": "code",
   "execution_count": 7,
   "metadata": {},
   "outputs": [
    {
     "ename": "SyntaxError",
     "evalue": "invalid syntax (<ipython-input-7-49875922b360>, line 4)",
     "output_type": "error",
     "traceback": [
      "\u001b[1;36m  File \u001b[1;32m\"<ipython-input-7-49875922b360>\"\u001b[1;36m, line \u001b[1;32m4\u001b[0m\n\u001b[1;33m    rouge.get_scores(hypothesis4, reference4, avg=)\u001b[0m\n\u001b[1;37m                                                  ^\u001b[0m\n\u001b[1;31mSyntaxError\u001b[0m\u001b[1;31m:\u001b[0m invalid syntax\n"
     ]
    }
   ],
   "source": [
    "#4\n",
    "reference4= \"Judy and Richard pick the best novels Following the popularity of this year's winner, the 10 authors who were shortlisted for a Richard and Judy book award in 2005 are hoping that their sales will increase. The TV couple's fascination with books gave rise to the phrase \\\"the Richard & Judy effect\\\" and produced the top two paperback bestsellers of 2004 to date. The British Book Awards include the best read award, which is presented on the Richard Madeley and Judy Finnigan show on Channel 4. The Richard and Judy executive producer Amanda Ross remarked, \\\"It was quite difficult to follow last year's tremendously successful list, but we anticipate this year's books will do even better.\\\" \\\"We had a lot of options, so it was difficult to choose just 10 from the 301.\\\"\"\n",
    "hypothesis4 = \"Richard and Judy choose top books The 10 authors shortlisted for a Richard and Judy book award in 2005 are hoping for a boost in sales following the success of this year's winner. The TV couple's interest in the book world coined the term \\\"the Richard & Judy effect\\\" and created the top two best-selling paperbacks of 2004 so far. The best read award, on Richard Madeley and Judy Finnigan's Channel 4 show, is part of the British Book Awards. \\\"It was very hard to follow last year's extremely successful list, but we think this year's books will do even better,\\\" said Richard and Judy executive producer Amanda Ross. \\\"We were spoiled for choice and it was tough getting down to only 10 from the 301 submitted.\\\" The finalists for 2005 include Andrew Taylor's The American Boy and Robbie Williams' autobiography Feel.\"\n",
    "rouge.get_scores(hypothesis4, reference4, avg=)"
   ]
  },
  {
   "cell_type": "code",
   "execution_count": 8,
   "metadata": {},
   "outputs": [
    {
     "data": {
      "text/plain": [
       "{'rouge-1': {'r': 0.12371134020618557,\n",
       "  'p': 0.14285714285714285,\n",
       "  'f': 0.132596680108666},\n",
       " 'rouge-2': {'r': 0.007874015748031496,\n",
       "  'p': 0.008771929824561403,\n",
       "  'f': 0.008298750201273634},\n",
       " 'rouge-l': {'r': 0.10309278350515463,\n",
       "  'p': 0.11904761904761904,\n",
       "  'f': 0.11049723259485385}}"
      ]
     },
     "execution_count": 8,
     "metadata": {},
     "output_type": "execute_result"
    }
   ],
   "source": [
    "#6\n",
    "reference6= \"Judy and Richard pick the best novels Following the popularity of this year's winner, the 10 authors who were shortlisted for a Richard and Judy book award in 2005 are hoping that their sales will increase. The TV couple's fascination with books gave rise to the phrase \\\"the Richard & Judy effect\\\" and produced the top two paperback bestsellers of 2004 to date. The British Book Awards include the best read award, which is presented on the Richard Madeley and Judy Finnigan show on Channel 4. The Richard and Judy executive producer Amanda Ross remarked, \\\"It was quite difficult to follow last year's tremendously successful list, but we anticipate this year's books will do even better.\" \"We had a lot of options, so it was difficult to choose just 10 from the 301.\\\"\"\n",
    "hypothesis6 = \"The History Boys also won the best new comedy title at the Theatregoers' Choice Awards. Bennett play takes theatre prizes The History Boys by Alan Bennett has been named best new play in the Critics' Circle Theatre Awards. The Producers was named best musical, Victoria Hamilton was best actress for Suddenly Last Summer and Festen's Rufus Norris was named best director. The Critics' Circle named Rebecca Lenkiewicz its most promising playwright for The Night Season, and Eddie Redmayne most promising newcomer for The Goat or, Who is Sylvia? Diana Rigg was best actress for Suddenly Last Summer, Dame Judi Dench was best supporting actress for the RSC's All's Well That Ends Well and The History Boys' Samuel Barnett was best supporting actor. Both the Critics' Circle and Whatsonstage.com Theatregoers' Choice award winners were announced on Tuesday.\"\n",
    "rouge.get_scores(hypothesis6, reference6, avg=True)"
   ]
  },
  {
   "cell_type": "code",
   "execution_count": 9,
   "metadata": {},
   "outputs": [
    {
     "data": {
      "text/plain": [
       "{'rouge-1': {'r': 0.6867469879518072, 'p': 0.59375, 'f': 0.6368715034062608},\n",
       " 'rouge-2': {'r': 0.40869565217391307,\n",
       "  'p': 0.36153846153846153,\n",
       "  'f': 0.38367346440649736},\n",
       " 'rouge-l': {'r': 0.5903614457831325,\n",
       "  'p': 0.5104166666666666,\n",
       "  'f': 0.5474860285459255}}"
      ]
     },
     "execution_count": 9,
     "metadata": {},
     "output_type": "execute_result"
    }
   ],
   "source": [
    "#8\n",
    "reference8= \"West End to honor the best productions At the Evening Standard Theatre Awards in London on Monday, the West End will honor its top performers and productions. The Producers, starring Lee Evans and Nathan Lane, is competing for best musical at the National Theatre awards. The History Boys by Alan Bennett, The Pillowman by Martin McDonagh, and by Edward Albee are on the shortlist for best play. Meanwhile, Stanley Townsend, Douglas Hodge, and Richard Griffiths, who portrays Hector in The History Boys at the National Theatre, will compete for the best actor prize (Shining City). Who is Sylvia, or The Goat? Ferris, who is most known for her television roles in shows like The Darling Buds of May, has achieved success in the\"\n",
    "hypothesis8 = \"West End to honour finest shows The West End is honouring its finest stars and shows at the Evening Standard Theatre Awards in London on Monday. The Producers, starring Nathan Lane and Lee Evans, is up for best musical at the ceremony at the National Theatre. by Edward Albee, The Pillowman by Martin McDonagh and Alan Bennett's The History Boys are shortlisted in the best play category. Meanwhile, Richard Griffiths, who plays Hector in The History Boys at the National Theatre, will battle it out for the best actor award with Douglas Hodge (Dumb Show) and Stanley Townsend (Shining City). The Goat or Who is Sylvia? Ferris - best known for her television roles in programmes such as The Darling Buds of May - has made the shortlist for her role in Notes on Falling Leaves, at the Royal Court Theatre.\"\n",
    "rouge.get_scores(hypothesis8, reference8, avg=True)"
   ]
  },
  {
   "cell_type": "code",
   "execution_count": 10,
   "metadata": {},
   "outputs": [
    {
     "data": {
      "text/plain": [
       "{'rouge-1': {'r': 0.7525773195876289,\n",
       "  'p': 0.6083333333333333,\n",
       "  'f': 0.6728110549640043},\n",
       " 'rouge-2': {'r': 0.5038759689922481,\n",
       "  'p': 0.41139240506329117,\n",
       "  'f': 0.45296166752491845},\n",
       " 'rouge-l': {'r': 0.711340206185567, 'p': 0.575, 'f': 0.6359446955169998}}"
      ]
     },
     "execution_count": 10,
     "metadata": {},
     "output_type": "execute_result"
    }
   ],
   "source": [
    "#9\n",
    "reference9= \"Dan Brown is the best author of this genre I've come across, but anyone who is familiar with the history of the first century would recognize how ridiculous the underlying ideas are. \\\"Historical research shows that they present a coherent and thoroughly credible picture of Jesus, with all sorts of incidental details that fit the time when he lived, and don't fit the world of later legend,\\\" said the Bishop. \\\"There is a great deal of credible evidence that the Biblical version of Jesus' life was true.\\\" Brown's book has become a publishing phenomenon and continues to be at the top of both the US and UK book lists. The Da Vinci Code has been translated into 42 different languages and has inspired a cottage publishing industry, including how-to guides.\"\n",
    "hypothesis9= \"\\\"Dan Brown is the best writer I've come across in the genre, but anyone who knows anything about 1st century history will see that this underlying material is laughable.\\\" A great deal of credible evidence proves the Biblical version of Jesus\\' life was true, according to the Bishop. \\\"Historical research shows that they present a coherent and thoroughly credible picture of Jesus, with all sorts of incidental details that fit the time when he lived, and don't fit the world of later legend.\\\" Brown's book has become a publishing phenomenon, consistently topping book charts in the UK and US. The Da Vinci Code has been translated into 42 languages and has spawned its own cottage industry of publications, including guides on to how to read the book, rebuttals and counter claims. Da Vinci Code is \\'lousy history\\' The plot of an international bestseller that thousands of readers are likely to receive as a Christmas present is \\'laughable\\', a clergyman has said.\"\n",
    "rouge.get_scores(hypothesis9, reference9, avg=True)"
   ]
  },
  {
   "cell_type": "code",
   "execution_count": 11,
   "metadata": {},
   "outputs": [
    {
     "data": {
      "text/plain": [
       "{'rouge-1': {'r': 0.5760869565217391,\n",
       "  'p': 0.5096153846153846,\n",
       "  'f': 0.5408163215493544},\n",
       " 'rouge-2': {'r': 0.2542372881355932,\n",
       "  'p': 0.2158273381294964,\n",
       "  'f': 0.23346303005283967},\n",
       " 'rouge-l': {'r': 0.5, 'p': 0.4423076923076923, 'f': 0.46938775012078304}}"
      ]
     },
     "execution_count": 11,
     "metadata": {},
     "output_type": "execute_result"
    }
   ],
   "source": [
    "#10\n",
    "reference10= \"The Vagina Monologues, a play set to debut this weekend in Kampala, the country's capital, has been outlawed by the Ugandan government. According to Uganda's New Vision newspaper, a few lawmakers and religious authorities are also supporting the Media Council. According to Ms. Ensler, \\\"there is certainly some fear of the vagina and speaking the term vagina.\\\" The show won't be presented, according to the Ugandan Media Council, because it glorifies and promotes homosexuality and lesbianism. The show should be and is hereby banned because it encourages homosexuality, prostitution, and illegal, unnatural sexual behaviors \\\"The council's decision said. \\\"I find it amazing that Uganda presents itself as progressive and promotes women's rights and the idea of free expression, but when women want to\"\n",
    "hypothesis10 = \"Uganda's authorities have banned the play The Vagina Monologues, due to open in the capital, Kampala this weekend. Some parliamentarians and church leaders are also siding with the Media Council, Uganda's New Vision newspaper reports. \\\"There is obviously some fear of the vagina and saying the word vagina,\\\" Ms Ensler told the BBC. The Ugandan Media Council said the performance would not be put on as it promoted and glorified acts such as lesbianism and homosexuality. \\The play promotes illegal, unnatural sexual acts, homosexuality and prostitution, it should be and is hereby banned,\\\" the council's ruling said. \\\"I'm amazed that this country Uganda gives the impression that it is progressive and supports women\\'s rights and the notions of free speech; yet when women want to share their stories the government uses the apparatus of state to shut us up.\\\"\"\n",
    "rouge.get_scores(hypothesis10, reference10, avg=True)"
   ]
  },
  {
   "cell_type": "code",
   "execution_count": 12,
   "metadata": {},
   "outputs": [
    {
     "data": {
      "text/plain": [
       "{'rouge-1': {'r': 0.5842696629213483,\n",
       "  'p': 0.6190476190476191,\n",
       "  'f': 0.6011560643683385},\n",
       " 'rouge-2': {'r': 0.3728813559322034,\n",
       "  'p': 0.39285714285714285,\n",
       "  'f': 0.38260869065557657},\n",
       " 'rouge-l': {'r': 0.4606741573033708,\n",
       "  'p': 0.4880952380952381,\n",
       "  'f': 0.47398843431053495}}"
      ]
     },
     "execution_count": 12,
     "metadata": {},
     "output_type": "execute_result"
    }
   ],
   "source": [
    "#11\n",
    "reference11= \"Just hours after the Royal Academy of Arts annual Secrets sale began, postcards by artists including Damien Hirst and Tracey Emin went on sale. This renowned sale is in its eleventh year. Until a piece is purchased and the artist's signature is seen on the back, no one knows who the artist is. The RCA's Fine Art Student Award Fund, which provides grants and bursaries to students, will receive the proceeds from the sale. Some of the contributing artists are currently enrolled at the Royal College of Art or have recently graduated from one of the nation's top art schools. She claimed that the purchasers of the renowned name postcards had arrived early and had taken their time looking over each piece.\"\n",
    "hypothesis11 = \"Postcards by artists including Damien Hirst and Tracey Emin have sold just hours after the opening of the Royal Academy of Arts annual Secrets sale. The famous sale is now in its 11th year. The identity of the artist remains unknown until each work is bought and the signature is revealed on the back. Money raised from the sale will go towards the RCA's Fine Art Student Award Fund which supports students with grants and bursaries. Some of the contributing artists are students or recent graduates of the Royal College of Art and other leading art colleges. She said the people that had bought the famous name postcards had arrived early and had spent time studying each work.\"\n",
    "rouge.get_scores(hypothesis11, reference11, avg=True)"
   ]
  },
  {
   "cell_type": "code",
   "execution_count": null,
   "metadata": {},
   "outputs": [],
   "source": []
  }
 ],
 "metadata": {
  "kernelspec": {
   "display_name": "Python 3",
   "language": "python",
   "name": "python3"
  },
  "language_info": {
   "codemirror_mode": {
    "name": "ipython",
    "version": 3
   },
   "file_extension": ".py",
   "mimetype": "text/x-python",
   "name": "python",
   "nbconvert_exporter": "python",
   "pygments_lexer": "ipython3",
   "version": "3.7.4"
  }
 },
 "nbformat": 4,
 "nbformat_minor": 2
}
