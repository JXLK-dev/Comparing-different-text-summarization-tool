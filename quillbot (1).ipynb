{
 "cells": [
  {
   "cell_type": "code",
   "execution_count": 3,
   "metadata": {},
   "outputs": [],
   "source": [
    "from rouge import Rouge\n",
    "rouge = Rouge()"
   ]
  },
  {
   "cell_type": "code",
   "execution_count": 4,
   "metadata": {},
   "outputs": [
    {
     "data": {
      "text/plain": [
       "{'rouge-1': {'r': 0.5915492957746479,\n",
       "  'p': 0.4883720930232558,\n",
       "  'f': 0.5350318421793988},\n",
       " 'rouge-2': {'r': 0.2826086956521739,\n",
       "  'p': 0.21487603305785125,\n",
       "  'f': 0.24413145049174556},\n",
       " 'rouge-l': {'r': 0.5211267605633803,\n",
       "  'p': 0.43023255813953487,\n",
       "  'f': 0.4713375746634752}}"
      ]
     },
     "execution_count": 4,
     "metadata": {},
     "output_type": "execute_result"
    }
   ],
   "source": [
    "#1\n",
    "hypothesis1 = \"Interactive tree unveiled in gallery, The Tate Britain art institution in London has introduced a Christmas tree that can accept text messages. The spruce includes a Bluetooth antenna that can pick up texts received by Tate visitors. Sculptor Richard Wentworth, who is in charge of adorning the tree with shattered plates and light bulbs, will \\\"unwrap\\\" the messages. The gallery has asked an artist to decorate their Christmas tree for the past 17 years. In 2002, Tracey Emin was one of the artists that adorned the Tate tree. The Norway spruce is on exhibit in the lobby of the gallery. It has dimmed light bulb decorations made of regular household bulbs connected by string. The plates used to decorate the branches will be sold at auction for\"\n",
    "reference1 = \"The messages will be \\\"unwrapped\\\" by sculptor Richard Wentworth, who is responsible for decorating the tree with broken plates and light bulbs.A Christmas tree that can receive text messages has been unveiled at London's Tate Britain art gallery.It is the 17th year that the gallery has invited an artist to dress their Christmas tree.The spruce has an antenna which can receive Bluetooth texts sent by visitors to the Tate.His reputation as a sculptor grew in the 1980s, while he has been one of the most influential teachers during the last two decades.\"\n",
    "rouge.get_scores(hypothesis1 , reference1, avg=True)"
   ]
  },
  {
   "cell_type": "code",
   "execution_count": 5,
   "metadata": {
    "scrolled": true
   },
   "outputs": [
    {
     "data": {
      "text/plain": [
       "{'rouge-1': {'r': 0.3918918918918919,\n",
       "  'p': 0.32222222222222224,\n",
       "  'f': 0.35365853163295663},\n",
       " 'rouge-2': {'r': 0.15053763440860216, 'p': 0.112, 'f': 0.1284403620802123},\n",
       " 'rouge-l': {'r': 0.2972972972972973,\n",
       "  'p': 0.24444444444444444,\n",
       "  'f': 0.2682926779744201}}"
      ]
     },
     "execution_count": 5,
     "metadata": {},
     "output_type": "execute_result"
    }
   ],
   "source": [
    "#2\n",
    "hypothesis2 = \"Jarre participates in the fairytale festival. The bicentennial of author Hans Christian Andersen's birth will be celebrated in Copenhagen with a concert featuring French musician Jean-Michel Jarre. A concert will be held at Parken stadium on April 2 as part of a three-day celebration of the author of fairy tales in Denmark. The Danish royal family will attend, and further celebrities are anticipated to be added to the lineup in the coming months. Fairy tales of Christian Andersen are timeless and accessible, according to Jarre. Beyond the simple enjoyment of the story, there is always something for everyone to learn, regardless of age. Around the world, events are scheduled all year long to honor Andersen and his works, which include The Little Mermaid and The Emperor's New Clothes. Denmark's\"\n",
    "reference2 = \"Bloom is to be formally presented with the Hans Christian Andersen Award this spring in Anderson's hometown of Odense.Later at a gala dinner, Danish supermodel Helena Christensen was named a Hans Christian Andersen ambassador.French musician Jean-Michel Jarre is to perform at a concert in Copenhagen to mark the bicentennial of the birth of writer Hans Christian Andersen.\\\"Christian Andersen\\'s fairy tales are timeless and universal,\\\" said Jarre.The royal couple also visited the Hans Christian Anderson School complex, where Queen Mary read The Ugly Duckling to the young audience.\\\"Bloom recognizes the darker aspects of Andersen\\'s authorship,\\\" Prince Frederik said.\"\n",
    "rouge.get_scores(hypothesis2, reference2, avg=True)"
   ]
  },
  {
   "cell_type": "code",
   "execution_count": 7,
   "metadata": {},
   "outputs": [
    {
     "data": {
      "text/plain": [
       "{'rouge-1': {'r': 0.5753424657534246,\n",
       "  'p': 0.47191011235955055,\n",
       "  'f': 0.5185185135672916},\n",
       " 'rouge-2': {'r': 0.28125, 'p': 0.2231404958677686, 'f': 0.2488479213336449},\n",
       " 'rouge-l': {'r': 0.3835616438356164,\n",
       "  'p': 0.3146067415730337,\n",
       "  'f': 0.3456790073944521}}"
      ]
     },
     "execution_count": 7,
     "metadata": {},
     "output_type": "execute_result"
    }
   ],
   "source": [
    "#3\n",
    "hypothesis3 = \"a musical score for a Capra movie. The creator of the contentious smash program Jerry Springer - The Opera will adapt the classic movie It's A Wonderful Life into a musical. James Stewart-starring 1946 film by Frank Capra is being remade as a £7 million musical by producer Jon Thoday. Steve Brown, the author of the Grammy-winning musical Spend Spend Spend, is his collaborator. The plans are in the \\\"very early stages,\\\" according to a spokeswoman, and no cast, opening date, or theater have been revealed. A cast of singers presented the musical to a small group of possible financiers on Wednesday after a series of workshops were performed in London. Mr. Thoday stated that it had been his goal to make the movie into a musical.\"\n",
    "reference3 = \"Musical treatment for Capra film The classic film It's A Wonderful Life is to be turned into a musical by the producer of the controversial hit show Jerry Springer - The Opera.Mr Thoday managed to buy the rights to the story from Van Doren Stern's family in 1999, following Mr Brown's success with Spend Spend Spend.Frank Capra's 1946 movie starring James Stewart, is being turned into a £7m musical by producer Jon Thoday.A series of workshops have been held in London, and on Wednesday a cast of singers unveiled the musical to a select group of potential investors.\"\n",
    "rouge.get_scores(hypothesis3, reference3, avg=True)"
   ]
  },
  {
   "cell_type": "code",
   "execution_count": 11,
   "metadata": {},
   "outputs": [
    {
     "data": {
      "text/plain": [
       "{'rouge-1': {'r': 0.5, 'p': 0.4387755102040816, 'f': 0.4673912993690927},\n",
       " 'rouge-2': {'r': 0.2972972972972973,\n",
       "  'p': 0.24444444444444444,\n",
       "  'f': 0.2682926779744201},\n",
       " 'rouge-l': {'r': 0.4186046511627907,\n",
       "  'p': 0.3673469387755102,\n",
       "  'f': 0.39130434284735355}}"
      ]
     },
     "execution_count": 11,
     "metadata": {},
     "output_type": "execute_result"
    }
   ],
   "source": [
    "#4\n",
    "hypothesis4= \"Judy and Richard pick the best novels. Following the popularity of this year's winner, the 10 authors who were shortlisted for a Richard and Judy book award in 2005 are hoping that their sales will increase. The TV couple's fascination with books gave rise to the phrase \\\"the Richard & Judy effect\\\" and produced the top two paperback bestsellers of 2004 to date. The American Boy by Andrew Taylor and Feel, the autobiography of Robbie Williams, are among the 2005 candidates. The Lovely Bones by Alice Sebold, this year's winner, sold over a million copies. Sales of Joseph O'Connor's Star of the Sea, which came in second, increased by 350%. The British Book Awards include the best read award, which is presented on the Richard Madeley and Judy Finnigan show on Channel 4. Cloud, a Booker-shortlisted book by David Mitchell\"\n",
    "reference4 = \"\\\"It was very hard to follow last year\\'s extremely successful list, but we think this year\\'s books will do even better,\\\" said Richard and Judy executive producer Amanda Ross.The 10 authors shortlisted for a Richard and Judy book award in 2005 are hoping for a boost in sales following the success of this year\\'s winner.The best read award, on Richard Madeley and Judy Finnigan\\'s Channel 4 show, is part of the British Book Awards.\\\"There\\'s no doubt that this year\\'s selection of book club entries is the best yet.The TV couple\\'s interest in the book world coined the term \\\"the Richard & Judy effect\\\" and created the top two best-selling paperbacks of 2004 so far.\"\n",
    "rouge.get_scores(hypothesis4, reference4, avg=True)"
   ]
  },
  {
   "cell_type": "code",
   "execution_count": 8,
   "metadata": {},
   "outputs": [
    {
     "data": {
      "text/plain": [
       "{'rouge-1': {'r': 0.12371134020618557,\n",
       "  'p': 0.14285714285714285,\n",
       "  'f': 0.132596680108666},\n",
       " 'rouge-2': {'r': 0.007874015748031496,\n",
       "  'p': 0.008771929824561403,\n",
       "  'f': 0.008298750201273634},\n",
       " 'rouge-l': {'r': 0.10309278350515463,\n",
       "  'p': 0.11904761904761904,\n",
       "  'f': 0.11049723259485385}}"
      ]
     },
     "execution_count": 8,
     "metadata": {},
     "output_type": "execute_result"
    }
   ],
   "source": [
    "#6\n",
    "hypothesis6= \"Bennett's play wins theater awards The Critics' Circle Theatre Awards' category for best new play went to Alan Bennett's The History Boys. The drama, which takes place at a grammar school, also won a medal for best actor for Richard Griffiths, who plays the instructor Hector. The Producers won the award for best musical, Victoria Hamilton won the award for best actress for Suddenly Last Summer, and Rufus Norris of Festen won the award for best director. At the Theatregoers' Choice Awards, The History Boys also took up the prize for best new comedy. The History Boys, an opera by Alan Bennett, has been playing at the National Theatre in London since last May. Eddie Redmayne was chosen the most promising newcomer for The Goat, and Rebecca Lenkiewicz was named the most promising dramatist for The Night Season.\"\n",
    "reference6 = \"The History Boys by Alan Bennett has been named best new play in the Critics\\' Circle Theatre Awards.The Producers was named best musical, Victoria Hamilton was best actress for Suddenly Last Summer and Festen's Rufus Norris was named best director.The History Boys also won the best new comedy title at the Theatregoers\\' Choice Awards.Diana Rigg was best actress for Suddenly Last Summer, Dame Judi Dench was best supporting actress for the RSC's All\\'s Well That Ends Well and The History Boys' Samuel Barnett was best supporting actor.\"\n",
    "rouge.get_scores(hypothesis6, reference6, avg=True)"
   ]
  },
  {
   "cell_type": "code",
   "execution_count": 12,
   "metadata": {},
   "outputs": [
    {
     "data": {
      "text/plain": [
       "{'rouge-1': {'r': 0.325, 'p': 0.4482758620689655, 'f': 0.3768115893299728},\n",
       " 'rouge-2': {'r': 0.17834394904458598,\n",
       "  'p': 0.22950819672131148,\n",
       "  'f': 0.20071684095682235},\n",
       " 'rouge-l': {'r': 0.2833333333333333,\n",
       "  'p': 0.39080459770114945,\n",
       "  'f': 0.3285024105860114}}"
      ]
     },
     "execution_count": 12,
     "metadata": {},
     "output_type": "execute_result"
    }
   ],
   "source": [
    "#8\n",
    "hypothesis8 = \"West End to honor the best productions. At the Evening Standard Theatre Awards in London on Monday, the West End will honor its top performers and productions. The Producers, starring Lee Evans and Nathan Lane, is competing for best musical at the National Theatre awards. It is vying for the honor alongside Sweeney Todd and A Funny Thing Happened on the Way to the Forum. The History Boys by Alan Bennett, The Pillowman by Martin McDonagh, and The Goat or Who is Sylvia? by Edward Albee are on the short list for best play. For best actress, Kelly Reilly, Victoria Hamilton, and Pam Ferris are nominated. Ferris made the shortlist. She is most known for her television work in shows like The Darling Buds of May.\"\n",
    "reference8= \"Meanwhile, Richard Griffiths, who plays Hector in The History Boys at the National Theatre, will battle it out for the best actor award with Douglas Hodge (Dumb Show) and Stanley Townsend (Shining City).The Milton Shulman Award for outstanding newcomer will be presented to Dominic Cooper (His Dark Materials and The History Boys), Romola Garai (Calico), Eddie Redmayne (The Goat, or Who is Sylvia?)by Edward Albee, The Pillowman by Martin McDonagh and Alan Bennett's The History Boys are shortlisted in the best play category.The Producers, starring Nathan Lane and Lee Evans, is up for best musical at the ceremony at the National Theatre.Ferris - best known for her television roles in programmes such as The Darling Buds of May - has made the shortlist for her role in Notes on Falling Leaves, at the Royal Court Theatre.Festen is also shortlisted in the best designer category where Ian MacNeil, Jean Kalman and Paul Arditti will be up against Hildegard Bechtler, for Iphigenia at Aulis, and Paul Brown, for False Servant.\"\n",
    "rouge.get_scores(hypothesis8, reference8, avg=True)"
   ]
  },
  {
   "cell_type": "code",
   "execution_count": 13,
   "metadata": {},
   "outputs": [
    {
     "data": {
      "text/plain": [
       "{'rouge-1': {'r': 0.3191489361702128,\n",
       "  'p': 0.3157894736842105,\n",
       "  'f': 0.31746031246045747},\n",
       " 'rouge-2': {'r': 0.10687022900763359,\n",
       "  'p': 0.1111111111111111,\n",
       "  'f': 0.1089494113443052},\n",
       " 'rouge-l': {'r': 0.2765957446808511,\n",
       "  'p': 0.2736842105263158,\n",
       "  'f': 0.2751322701324152}}"
      ]
     },
     "execution_count": 13,
     "metadata": {},
     "output_type": "execute_result"
    }
   ],
   "source": [
    "#9\n",
    "hypothesis9= \"It's \\\"lousy history\\\" that Da Vinci Code is.According to a clergyman, the plot of a worldwide best-seller that thousands of readers will certainly get for Christmas is \\\"laughable.\\\"According to The Da Vinci Code, Jesus had a natural death and was not crucified. Instead, he married Mary Magdalene. This is allegedly something that the Church later hushed up. The book was called a \\\"wonderful thriller\\\" but had \\\"lousy history,\\\" according to the Rt Rev Dr Tom Wright, Bishop of Durham. More than 7 million copies of the book have been sold globally. The Bishop indicated there was not enough proof to support Dan Brown's conspiracy idea, despite the fact that he enjoyed it. Conspiracy theories are always entertaining, the Bishop said in his Christmas letter to the Northern Echo.\"\n",
    "reference9= \"Despite enjoying Dan Brown's conspiracy theory, the Bishop said there was a lack of evidence to back up its claims.A great deal of credible evidence proves the Biblical version of Jesus' life was true, according to the Bishop.The Da Vinci Code has been translated into 42 languages and has spawned its own cottage industry of publications, including guides on to how to read the book, rebuttals and counter claims.The plot of an international bestseller that thousands of readers are likely to receive as a Christmas present is 'laughable', a clergyman has said.The book, which has become an international best-seller in little over two years, is set to be made into a film starring Tom Hanks.Brown's book has become a publishing phenomenon, consistently topping book charts in the UK and US.\"\n",
    "rouge.get_scores(hypothesis9, reference9, avg=True)"
   ]
  },
  {
   "cell_type": "code",
   "execution_count": 15,
   "metadata": {},
   "outputs": [
    {
     "data": {
      "text/plain": [
       "{'rouge-1': {'r': 0.3625, 'p': 0.29896907216494845, 'f': 0.3276836108653325},\n",
       " 'rouge-2': {'r': 0.14285714285714285, 'p': 0.128, 'f': 0.13502109206145757},\n",
       " 'rouge-l': {'r': 0.325, 'p': 0.26804123711340205, 'f': 0.2937853057805867}}"
      ]
     },
     "execution_count": 15,
     "metadata": {},
     "output_type": "execute_result"
    }
   ],
   "source": [
    "#10\n",
    "hypothesis10 = \"Uganda forbids genital monologues. The Vagina Monologues, a play set to debut this weekend in Kampala, the country's capital, has been outlawed by the Ugandan government. The show won't be presented, according to the Ugandan Media Council, because it glorifies and promotes homosexuality and lesbianism. It stated that if the organizers \\\"expunge all the objectionable sections,\\\" the production might proceed. The play's organizers assert that it increases awareness of sexual violence against women. According to the council's decision, the play \\\"promotes illegal, unnatural sexual practices, homosexuality, and prostitution; it should be and is now forbidden.\\\"The event, which has received controversy all around the world, addresses female sexuality and strength by having different women share their own narratives in monologue form. a few parliamentary figures and religious leaders\"\n",
    "reference10 = \"She said the play is being produced and performed by Ugandan women and it is not being forced on them.But the organisers of the play say it raises awareness of sexual abuse against women.\\\"The play promotes illegal, unnatural sexual acts, homosexuality and prostitution, it should be and is hereby banned,\\\" the council's ruling said.Uganda's authorities have banned the play The Vagina Monologues, due to open in the capital, Kampala this weekend.The four Ugandan NGOs organising the play intended to raise money to campaign to stop violence against women and to raise funds for the war-torn north of the country.\\\"There is obviously some fear of the vagina and saying the word vagina,\\\" Ms Ensler told the BBC.\"\n",
    "rouge.get_scores(hypothesis10, reference10, avg=True)"
   ]
  },
  {
   "cell_type": "code",
   "execution_count": 17,
   "metadata": {},
   "outputs": [
    {
     "data": {
      "text/plain": [
       "{'rouge-1': {'r': 0.3978494623655914,\n",
       "  'p': 0.3894736842105263,\n",
       "  'f': 0.3936170162771616},\n",
       " 'rouge-2': {'r': 0.21929824561403508, 'p': 0.2, 'f': 0.20920501593109378},\n",
       " 'rouge-l': {'r': 0.3225806451612903,\n",
       "  'p': 0.3157894736842105,\n",
       "  'f': 0.31914893117077864}}"
      ]
     },
     "execution_count": 17,
     "metadata": {},
     "output_type": "execute_result"
    }
   ],
   "source": [
    "#11\n",
    "hypothesis11 = \"Sale of artist-secret postcards. Just hours after the Royal Academy of Arts annual Secrets sale began, postcards by artists including Damien Hirst and Tracey Emin went on sale. Until a piece is purchased and the artist's signature is seen on the back, no one knows who the artist is. According to RCA spokeswoman Sue Bradburn, \\\"There are still some huge names left, including Mario Testino.\\\" The cost of each postcard is £35 The deal began on Friday at 8 am and will end on Saturday at 6 pm. According to Ms. Bradburn, there was a lengthy line at the beginning of the sale, but it has since thinned out. She claimed that those who purchased the celebrity postcards had arrived early and spent some time researching.\"\n",
    "reference11= \"Ms Bradburn said there was a big queue at the start of the sale but it had now gone down.She said the people that had bought the famous name postcards had arrived early and had spent time studying each work.The famous sale is now in its 11th year.Money raised from the sale will go towards the RCA's Fine Art Student Award Fund which supports students with grants and bursaries.Film director Ken Loach, fashion designer Hussein Chalayan and former Blur guitarist Graham Coxon have all designed postcards for the sale.Postcards by artists including Damien Hirst and Tracey Emin have sold just hours after the opening of the Royal Academy of Arts annual Secrets sale.\"\n",
    "rouge.get_scores(hypothesis11, reference11, avg=True)"
   ]
  },
  {
   "cell_type": "code",
   "execution_count": null,
   "metadata": {},
   "outputs": [],
   "source": []
  }
 ],
 "metadata": {
  "kernelspec": {
   "display_name": "Python 3",
   "language": "python",
   "name": "python3"
  },
  "language_info": {
   "codemirror_mode": {
    "name": "ipython",
    "version": 3
   },
   "file_extension": ".py",
   "mimetype": "text/x-python",
   "name": "python",
   "nbconvert_exporter": "python",
   "pygments_lexer": "ipython3",
   "version": "3.7.4"
  }
 },
 "nbformat": 4,
 "nbformat_minor": 2
}
