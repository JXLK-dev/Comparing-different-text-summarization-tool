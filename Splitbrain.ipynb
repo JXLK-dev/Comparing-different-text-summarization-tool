{
 "cells": [
  {
   "cell_type": "code",
   "execution_count": 1,
   "metadata": {
    "scrolled": true
   },
   "outputs": [
    {
     "name": "stdout",
     "output_type": "stream",
     "text": [
      "Requirement already satisfied: rouge in c:\\users\\asus\\anaconda3\\lib\\site-packages (1.0.1)\n",
      "Requirement already satisfied: six in c:\\users\\asus\\anaconda3\\lib\\site-packages (from rouge) (1.12.0)\n",
      "Note: you may need to restart the kernel to use updated packages.\n"
     ]
    }
   ],
   "source": [
    "pip install rouge"
   ]
  },
  {
   "cell_type": "code",
   "execution_count": 2,
   "metadata": {},
   "outputs": [],
   "source": [
    "from rouge import Rouge\n",
    "rouge = Rouge()"
   ]
  },
  {
   "cell_type": "code",
   "execution_count": 14,
   "metadata": {},
   "outputs": [
    {
     "data": {
      "text/plain": [
       "[{'rouge-1': {'r': 1.0, 'p': 0.726027397260274, 'f': 0.8412698363958176},\n",
       "  'rouge-2': {'r': 0.9841269841269841,\n",
       "   'p': 0.6666666666666666,\n",
       "   'f': 0.7948717900567062},\n",
       "  'rouge-l': {'r': 1.0, 'p': 0.726027397260274, 'f': 0.8412698363958176}}]"
      ]
     },
     "execution_count": 14,
     "metadata": {},
     "output_type": "execute_result"
    }
   ],
   "source": [
    "#1\n",
    "reference1 = \"For the first time, Claxton has only been preparing for a campaign over the hurdles - which could explain her leap in form. British hurdler Sarah Claxton is confident she can win her first major medal at next month's European Indoor Championships in Madrid. Claxton will see if her new training regime pays dividends at the European Indoors which take place on 5-6 March.\"\n",
    "hypothesis1 = \"For the first time, Claxton has only been preparing for a campaign over the hurdles - which could explain her leap in form. Claxton has won the national 60m hurdles title for the past three years but has struggled to translate her domestic success to the international stage. British hurdler Sarah Claxton is confident she can win her first major medal at next month's European Indoor Championships in Madrid. Claxton will see if her new training regime pays dividends at the European Indoors which take place on 5-6 March. ‘I am quite confident,’ said Claxton.\"\n",
    "rouge.get_scores(hypothesis1 , reference1, avg=True)"
   ]
  },
  {
   "cell_type": "code",
   "execution_count": 9,
   "metadata": {
    "scrolled": true
   },
   "outputs": [
    {
     "data": {
      "text/plain": [
       "{'rouge-1': {'r': 1.0, 'p': 0.569620253164557, 'f': 0.7258064469888139},\n",
       " 'rouge-2': {'r': 0.9821428571428571,\n",
       "  'p': 0.5339805825242718,\n",
       "  'f': 0.6918238948079586},\n",
       " 'rouge-l': {'r': 1.0, 'p': 0.569620253164557, 'f': 0.7258064469888139}}"
      ]
     },
     "execution_count": 9,
     "metadata": {},
     "output_type": "execute_result"
    }
   ],
   "source": [
    "#2\n",
    "reference2= \"Jarre joins fairytale celebration French musician Jean-Michel Jarre is to perform at a concert in Copenhagen to mark the bicentennial of the birth of writer Hans Christian Andersen. Later at a gala dinner, Danish supermodel Helena Christensen was named a Hans Christian Andersen ambassador. Bloom is to be formally presented with the Hans Christian Andersen Award this spring in Anderson's hometown of Odense.\"\n",
    "hypothesis2 = \"Jarre joins fairytale celebration French musician Jean-Michel Jarre is to perform at a concert in Copenhagen to mark the bicentennial of the birth of writer Hans Christian Andersen. Later at a gala dinner, Danish supermodel Helena Christensen was named a Hans Christian Andersen ambassador. Denmark's Crown Prince Frederik and Crown Princess Mary visited New York on Monday to help promote the festivities. Other stars are expected to join the line-up in the coming months, and the Danish royal family will attend. Bloom is to be formally presented with the Hans Christian Andersen Award this spring in Anderson's hometown of Odense. \\\"Christian Andersen's fairy tales are timeless and universal,\\\" said Jarre.\"\n",
    "rouge.get_scores(hypothesis2, reference2, avg=True)"
   ]
  },
  {
   "cell_type": "code",
   "execution_count": 11,
   "metadata": {},
   "outputs": [
    {
     "data": {
      "text/plain": [
       "{'rouge-1': {'r': 0.7183098591549296,\n",
       "  'p': 0.6986301369863014,\n",
       "  'f': 0.708333328334298},\n",
       " 'rouge-2': {'r': 0.34444444444444444,\n",
       "  'p': 0.3229166666666667,\n",
       "  'f': 0.33333332833853635},\n",
       " 'rouge-l': {'r': 0.5211267605633803,\n",
       "  'p': 0.5068493150684932,\n",
       "  'f': 0.5138888838898535}}"
      ]
     },
     "execution_count": 11,
     "metadata": {},
     "output_type": "execute_result"
    }
   ],
   "source": [
    "#3\n",
    "reference3= \"a musical score for a Capra movie The creator of the contentious hit program Jerry Springer - The Opera will adapt the classic movie It's A Wonderful Life into a musical. In 1999, Mr. Thoday acquired the story's rights from Van Doren Stern's family thanks to Mr. Brown's success with Spend Spend Spend. Producer Jon Thoday is turning the 1946 film by Frank Capra starring James Stewart into a £7 million musical. The musical was unveiled to a select group of potential investors on Wednesday after a number of workshops were held in London.\"\n",
    "hypothesis3 = \"Musical treatment for Capra film The classic film It's A Wonderful Life is to be turned into a musical by the producer of the controversial hit show Jerry Springer - The Opera.Mr Thoday managed to buy the rights to the story from Van Doren Stern's family in 1999, following Mr Brown's success with Spend Spend Spend.Frank Capra's 1946 movie starring James Stewart, is being turned into a £7m musical by producer Jon Thoday.A series of workshops have been held in London, and on Wednesday a cast of singers unveiled the musical to a select group of potential investors.\"\n",
    "rouge.get_scores(hypothesis3, reference3, avg=True)"
   ]
  },
  {
   "cell_type": "code",
   "execution_count": 12,
   "metadata": {},
   "outputs": [
    {
     "data": {
      "text/plain": [
       "{'rouge-1': {'r': 1.0, 'p': 0.6176470588235294, 'f': 0.7636363589157026},\n",
       " 'rouge-2': {'r': 1.0, 'p': 0.5481481481481482, 'f': 0.7081339667177949},\n",
       " 'rouge-l': {'r': 1.0, 'p': 0.6176470588235294, 'f': 0.7636363589157026}}"
      ]
     },
     "execution_count": 12,
     "metadata": {},
     "output_type": "execute_result"
    }
   ],
   "source": [
    "#4\n",
    "reference4= \"Richard and Judy choose top books The 10 authors shortlisted for a Richard and Judy book award in 2005 are hoping for a boost in sales following the success of this year's winner. The best read award, on Richard Madeley and Judy Finnigan's Channel 4 show, is part of the British Book Awards. \\\"It was very hard to follow last year's extremely successful list, but we think this year's books will do even better,\\\" said Richard and Judy executive producer Amanda Ross.\"\n",
    "hypothesis4 = \"Richard and Judy choose top books The 10 authors shortlisted for a Richard and Judy book award in 2005 are hoping for a boost in sales following the success of this year's winner. The TV couple's interest in the book world coined the term \\\"the Richard & Judy effect\\\" and created the top two best-selling paperbacks of 2004 so far. The best read award, on Richard Madeley and Judy Finnigan's Channel 4 show, is part of the British Book Awards. \\\"It was very hard to follow last year's extremely successful list, but we think this year's books will do even better,\\\" said Richard and Judy executive producer Amanda Ross. \\\"We were spoiled for choice and it was tough getting down to only 10 from the 301 submitted.\\\" The finalists for 2005 include Andrew Taylor's The American Boy and Robbie Williams' autobiography Feel.\"\n",
    "rouge.get_scores(hypothesis4, reference4, avg=)"
   ]
  },
  {
   "cell_type": "code",
   "execution_count": 13,
   "metadata": {},
   "outputs": [
    {
     "data": {
      "text/plain": [
       "{'rouge-1': {'r': 1.0, 'p': 0.5476190476190477, 'f': 0.7076923031195267},\n",
       " 'rouge-2': {'r': 0.9830508474576272,\n",
       "  'p': 0.5087719298245614,\n",
       "  'f': 0.6705202267192356},\n",
       " 'rouge-l': {'r': 1.0, 'p': 0.5476190476190477, 'f': 0.7076923031195267}}"
      ]
     },
     "execution_count": 13,
     "metadata": {},
     "output_type": "execute_result"
    }
   ],
   "source": [
    "#6\n",
    "reference6= \"The History Boys also won the best new comedy title at the Theatregoers' Choice Awards. The Producers was named best musical, Victoria Hamilton was best actress for Suddenly Last Summer and Festen's Rufus Norris was named best director. Diana Rigg was best actress for Suddenly Last Summer, Dame Judi Dench was best supporting actress for the RSC's All's Well That Ends Well and The History Boys' Samuel Barnett was best supporting actor.\"\n",
    "hypothesis6 = \"The History Boys also won the best new comedy title at the Theatregoers' Choice Awards. Bennett play takes theatre prizes The History Boys by Alan Bennett has been named best new play in the Critics' Circle Theatre Awards. The Producers was named best musical, Victoria Hamilton was best actress for Suddenly Last Summer and Festen's Rufus Norris was named best director. The Critics' Circle named Rebecca Lenkiewicz its most promising playwright for The Night Season, and Eddie Redmayne most promising newcomer for The Goat or, Who is Sylvia? Diana Rigg was best actress for Suddenly Last Summer, Dame Judi Dench was best supporting actress for the RSC's All's Well That Ends Well and The History Boys' Samuel Barnett was best supporting actor. Both the Critics' Circle and Whatsonstage.com Theatregoers' Choice award winners were announced on Tuesday.\"\n",
    "rouge.get_scores(hypothesis6, reference6, avg=True)"
   ]
  },
  {
   "cell_type": "code",
   "execution_count": 15,
   "metadata": {},
   "outputs": [
    {
     "data": {
      "text/plain": [
       "{'rouge-1': {'r': 1.0, 'p': 0.7395833333333334, 'f': 0.8502993963096561},\n",
       " 'rouge-2': {'r': 0.9775280898876404,\n",
       "  'p': 0.6692307692307692,\n",
       "  'f': 0.7945205431204522},\n",
       " 'rouge-l': {'r': 1.0, 'p': 0.7395833333333334, 'f': 0.8502993963096561}}"
      ]
     },
     "execution_count": 15,
     "metadata": {},
     "output_type": "execute_result"
    }
   ],
   "source": [
    "#8\n",
    "reference8= \"West End to honour finest shows The West End is honouring its finest stars and shows at the Evening Standard Theatre Awards in London on Monday. Meanwhile, Richard Griffiths, who plays Hector in The History Boys at the National Theatre, will battle it out for the best actor award with Douglas Hodge (Dumb Show) and Stanley Townsend (Shining City). Ferris - best known for her television roles in programmes such as The Darling Buds of May - has made the shortlist for her role in Notes on Falling Leaves, at the Royal Court Theatre.\"\n",
    "hypothesis8 = \"West End to honour finest shows The West End is honouring its finest stars and shows at the Evening Standard Theatre Awards in London on Monday. The Producers, starring Nathan Lane and Lee Evans, is up for best musical at the ceremony at the National Theatre. by Edward Albee, The Pillowman by Martin McDonagh and Alan Bennett's The History Boys are shortlisted in the best play category. Meanwhile, Richard Griffiths, who plays Hector in The History Boys at the National Theatre, will battle it out for the best actor award with Douglas Hodge (Dumb Show) and Stanley Townsend (Shining City). The Goat or Who is Sylvia? Ferris - best known for her television roles in programmes such as The Darling Buds of May - has made the shortlist for her role in Notes on Falling Leaves, at the Royal Court Theatre.\"\n",
    "rouge.get_scores(hypothesis8, reference8, avg=True)"
   ]
  },
  {
   "cell_type": "code",
   "execution_count": 16,
   "metadata": {},
   "outputs": [
    {
     "data": {
      "text/plain": [
       "{'rouge-1': {'r': 1.0, 'p': 0.6666666666666666, 'f': 0.7999999952000001},\n",
       " 'rouge-2': {'r': 1.0, 'p': 0.620253164556962, 'f': 0.7656249952746582},\n",
       " 'rouge-l': {'r': 1.0, 'p': 0.6666666666666666, 'f': 0.7999999952000001}}"
      ]
     },
     "execution_count": 16,
     "metadata": {},
     "output_type": "execute_result"
    }
   ],
   "source": [
    "#9\n",
    "reference9= \"\\\"Dan Brown is the best writer I've come across in the genre, but anyone who knows anything about 1st century history will see that this underlying material is laughable.\\\" A great deal of credible evidence proves the Biblical version of Jesus\\' life was true, according to the Bishop. \\\"Historical research shows that they present a coherent and thoroughly credible picture of Jesus, with all sorts of incidental details that fit the time when he lived, and don't fit the world of later legend.\\\" Brown's book has become a publishing phenomenon, consistently topping book charts in the UK and US.\"\n",
    "hypothesis9= \"\\\"Dan Brown is the best writer I've come across in the genre, but anyone who knows anything about 1st century history will see that this underlying material is laughable.\\\" A great deal of credible evidence proves the Biblical version of Jesus\\' life was true, according to the Bishop. \\\"Historical research shows that they present a coherent and thoroughly credible picture of Jesus, with all sorts of incidental details that fit the time when he lived, and don't fit the world of later legend.\\\" Brown's book has become a publishing phenomenon, consistently topping book charts in the UK and US. The Da Vinci Code has been translated into 42 languages and has spawned its own cottage industry of publications, including guides on to how to read the book, rebuttals and counter claims. Da Vinci Code is \\'lousy history\\' The plot of an international bestseller that thousands of readers are likely to receive as a Christmas present is \\'laughable\\', a clergyman has said.\"\n",
    "rouge.get_scores(hypothesis9, reference9, avg=True)"
   ]
  },
  {
   "cell_type": "code",
   "execution_count": 17,
   "metadata": {},
   "outputs": [
    {
     "data": {
      "text/plain": [
       "{'rouge-1': {'r': 1.0, 'p': 0.5961538461538461, 'f': 0.7469879471273044},\n",
       " 'rouge-2': {'r': 0.9871794871794872,\n",
       "  'p': 0.5539568345323741,\n",
       "  'f': 0.7096774147499416},\n",
       " 'rouge-l': {'r': 1.0, 'p': 0.5961538461538461, 'f': 0.7469879471273044}}"
      ]
     },
     "execution_count": 17,
     "metadata": {},
     "output_type": "execute_result"
    }
   ],
   "source": [
    "#10\n",
    "reference10= \"Uganda's authorities have banned the play The Vagina Monologues, due to open in the capital, Kampala this weekend. Some parliamentarians and church leaders are also siding with the Media Council, Uganda's New Vision newspaper reports. The Ugandan Media Council said the performance would not be put on as it promoted and glorified acts such as lesbianism and homosexuality. \\The play promotes illegal, unnatural sexual acts, homosexuality and prostitution, it should be and is hereby banned,\\\" the council's ruling said.\"\n",
    "hypothesis10 = \"Uganda's authorities have banned the play The Vagina Monologues, due to open in the capital, Kampala this weekend. Some parliamentarians and church leaders are also siding with the Media Council, Uganda's New Vision newspaper reports. \\\"There is obviously some fear of the vagina and saying the word vagina,\\\" Ms Ensler told the BBC. The Ugandan Media Council said the performance would not be put on as it promoted and glorified acts such as lesbianism and homosexuality. \\The play promotes illegal, unnatural sexual acts, homosexuality and prostitution, it should be and is hereby banned,\\\" the council's ruling said. \\\"I'm amazed that this country Uganda gives the impression that it is progressive and supports women\\'s rights and the notions of free speech; yet when women want to share their stories the government uses the apparatus of state to shut us up.\\\"\"\n",
    "rouge.get_scores(hypothesis10, reference10, avg=True)"
   ]
  },
  {
   "cell_type": "code",
   "execution_count": 18,
   "metadata": {},
   "outputs": [
    {
     "data": {
      "text/plain": [
       "{'rouge-1': {'r': 1.0, 'p': 0.6190476190476191, 'f': 0.7647058776297578},\n",
       " 'rouge-2': {'r': 0.984375, 'p': 0.5625, 'f': 0.7159090862809918},\n",
       " 'rouge-l': {'r': 1.0, 'p': 0.6190476190476191, 'f': 0.7647058776297578}}"
      ]
     },
     "execution_count": 18,
     "metadata": {},
     "output_type": "execute_result"
    }
   ],
   "source": [
    "#11\n",
    "reference11= \"Postcards by artists including Damien Hirst and Tracey Emin have sold just hours after the opening of the Royal Academy of Arts annual Secrets sale. Money raised from the sale will go towards the RCA's Fine Art Student Award Fund which supports students with grants and bursaries. Some of the contributing artists are students or recent graduates of the Royal College of Art and other leading art colleges.\"\n",
    "hypothesis11 = \"Postcards by artists including Damien Hirst and Tracey Emin have sold just hours after the opening of the Royal Academy of Arts annual Secrets sale. The famous sale is now in its 11th year. The identity of the artist remains unknown until each work is bought and the signature is revealed on the back. Money raised from the sale will go towards the RCA's Fine Art Student Award Fund which supports students with grants and bursaries. Some of the contributing artists are students or recent graduates of the Royal College of Art and other leading art colleges. She said the people that had bought the famous name postcards had arrived early and had spent time studying each work.\"\n",
    "rouge.get_scores(hypothesis11, reference11, avg=True)"
   ]
  },
  {
   "cell_type": "code",
   "execution_count": null,
   "metadata": {},
   "outputs": [],
   "source": []
  }
 ],
 "metadata": {
  "kernelspec": {
   "display_name": "Python 3",
   "language": "python",
   "name": "python3"
  },
  "language_info": {
   "codemirror_mode": {
    "name": "ipython",
    "version": 3
   },
   "file_extension": ".py",
   "mimetype": "text/x-python",
   "name": "python",
   "nbconvert_exporter": "python",
   "pygments_lexer": "ipython3",
   "version": "3.7.4"
  }
 },
 "nbformat": 4,
 "nbformat_minor": 2
}
