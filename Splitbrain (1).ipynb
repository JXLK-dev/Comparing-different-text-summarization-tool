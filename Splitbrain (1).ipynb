{
 "cells": [
  {
   "cell_type": "code",
   "execution_count": 5,
   "metadata": {
    "scrolled": true
   },
   "outputs": [
    {
     "name": "stdout",
     "output_type": "stream",
     "text": [
      "Requirement already satisfied: rouge in c:\\users\\asus\\anaconda3\\lib\\site-packages (1.0.1)\n",
      "Requirement already satisfied: six in c:\\users\\asus\\anaconda3\\lib\\site-packages (from rouge) (1.12.0)\n",
      "Note: you may need to restart the kernel to use updated packages.\n"
     ]
    }
   ],
   "source": [
    "pip install rouge"
   ]
  },
  {
   "cell_type": "code",
   "execution_count": 1,
   "metadata": {},
   "outputs": [],
   "source": [
    "from rouge import Rouge\n",
    "rouge = Rouge()"
   ]
  },
  {
   "cell_type": "code",
   "execution_count": 2,
   "metadata": {},
   "outputs": [
    {
     "data": {
      "text/plain": [
       "{'rouge-1': {'r': 0.5211267605633803,\n",
       "  'p': 0.9024390243902439,\n",
       "  'f': 0.660714281073023},\n",
       " 'rouge-2': {'r': 0.40217391304347827,\n",
       "  'p': 0.8809523809523809,\n",
       "  'f': 0.5522388016662955},\n",
       " 'rouge-l': {'r': 0.5211267605633803,\n",
       "  'p': 0.9024390243902439,\n",
       "  'f': 0.660714281073023}}"
      ]
     },
     "execution_count": 2,
     "metadata": {},
     "output_type": "execute_result"
    }
   ],
   "source": [
    "#1\n",
    "hypothesis1 = \"Gallery unveils interactive tre. A Christmas tree that can receive text messages has been unveiled at London's Tate Britain art gallery. The messages will be \\\"unwrapped\\\" by sculptor Richard Wentworth, who is responsible for decorating the tree with broken plates and light bulbs.\"\n",
    "reference1 = \"The messages will be \\\"unwrapped\\\" by sculptor Richard Wentworth, who is responsible for decorating the tree with broken plates and light bulbs.A Christmas tree that can receive text messages has been unveiled at London's Tate Britain art gallery.It is the 17th year that the gallery has invited an artist to dress their Christmas tree.The spruce has an antenna which can receive Bluetooth texts sent by visitors to the Tate.His reputation as a sculptor grew in the 1980s, while he has been one of the most influential teachers during the last two decades.\"\n",
    "rouge.get_scores(hypothesis1 , reference1, avg=True)"
   ]
  },
  {
   "cell_type": "code",
   "execution_count": 3,
   "metadata": {
    "scrolled": true
   },
   "outputs": [
    {
     "data": {
      "text/plain": [
       "{'rouge-1': {'r': 0.7027027027027027,\n",
       "  'p': 0.7323943661971831,\n",
       "  'f': 0.7172413743124854},\n",
       " 'rouge-2': {'r': 0.6559139784946236,\n",
       "  'p': 0.6777777777777778,\n",
       "  'f': 0.6666666616680104},\n",
       " 'rouge-l': {'r': 0.6891891891891891,\n",
       "  'p': 0.7183098591549296,\n",
       "  'f': 0.7034482708642094}}"
      ]
     },
     "execution_count": 3,
     "metadata": {},
     "output_type": "execute_result"
    }
   ],
   "source": [
    "#2\n",
    "hypothesis2 = \"Jarre joins fairytale celebration. French musician Jean-Michel Jarre is to perform at a concert in Copenhagen to mark the bicentennial of the birth of writer Hans Christian Andersen. \\\"Christian Andersen\\'s fairy tales are timeless and universal,\\\" said Jarre. There are year-long celebrations planned across the world to celebrate Andersen and his work, which includes The Emperor\\'s New Clothes and The Little Mermaid. Bloom is to be formally presented with the Hans Christian Andersen Award this spring in Anderson's hometown of Odense. Later at a gala dinner, Danish supermodel Helena Christensen was named a Hans Christian Andersen ambassador.\"\n",
    "reference2 = \"Bloom is to be formally presented with the Hans Christian Andersen Award this spring in Anderson's hometown of Odense.Later at a gala dinner, Danish supermodel Helena Christensen was named a Hans Christian Andersen ambassador.French musician Jean-Michel Jarre is to perform at a concert in Copenhagen to mark the bicentennial of the birth of writer Hans Christian Andersen.\\\"Christian Andersen\\'s fairy tales are timeless and universal,\\\" said Jarre.The royal couple also visited the Hans Christian Anderson School complex, where Queen Mary read The Ugly Duckling to the young audience.\\\"Bloom recognizes the darker aspects of Andersen\\'s authorship,\\\" Prince Frederik said.\"\n",
    "rouge.get_scores(hypothesis2, reference2, avg=True)"
   ]
  },
  {
   "cell_type": "code",
   "execution_count": 4,
   "metadata": {},
   "outputs": [
    {
     "data": {
      "text/plain": [
       "{'rouge-1': {'r': 0.6986301369863014,\n",
       "  'p': 0.7183098591549296,\n",
       "  'f': 0.708333328334298},\n",
       " 'rouge-2': {'r': 0.3229166666666667,\n",
       "  'p': 0.34444444444444444,\n",
       "  'f': 0.33333332833853635},\n",
       " 'rouge-l': {'r': 0.5068493150684932,\n",
       "  'p': 0.5211267605633803,\n",
       "  'f': 0.5138888838898535}}"
      ]
     },
     "execution_count": 4,
     "metadata": {},
     "output_type": "execute_result"
    }
   ],
   "source": [
    "#3\n",
    "hypothesis3= \"a musical score for a Capra movie The creator of the contentious hit program Jerry Springer - The Opera will adapt the classic movie It's A Wonderful Life into a musical. In 1999, Mr. Thoday acquired the story's rights from Van Doren Stern's family thanks to Mr. Brown's success with Spend Spend Spend. Producer Jon Thoday is turning the 1946 film by Frank Capra starring James Stewart into a £7 million musical. The musical was unveiled to a select group of potential investors on Wednesday after a number of workshops were held in London.\"\n",
    "reference3 = \"Musical treatment for Capra film The classic film It's A Wonderful Life is to be turned into a musical by the producer of the controversial hit show Jerry Springer - The Opera.Mr Thoday managed to buy the rights to the story from Van Doren Stern's family in 1999, following Mr Brown's success with Spend Spend Spend.Frank Capra's 1946 movie starring James Stewart, is being turned into a £7m musical by producer Jon Thoday.A series of workshops have been held in London, and on Wednesday a cast of singers unveiled the musical to a select group of potential investors.\"\n",
    "rouge.get_scores(hypothesis3, reference3, avg=True)"
   ]
  },
  {
   "cell_type": "code",
   "execution_count": 5,
   "metadata": {},
   "outputs": [
    {
     "data": {
      "text/plain": [
       "{'rouge-1': {'r': 0.5581395348837209,\n",
       "  'p': 0.9795918367346939,\n",
       "  'f': 0.7111111064866943},\n",
       " 'rouge-2': {'r': 0.45045045045045046,\n",
       "  'p': 0.9090909090909091,\n",
       "  'f': 0.60240963412324},\n",
       " 'rouge-l': {'r': 0.5581395348837209,\n",
       "  'p': 0.9795918367346939,\n",
       "  'f': 0.7111111064866943}}"
      ]
     },
     "execution_count": 5,
     "metadata": {},
     "output_type": "execute_result"
    }
   ],
   "source": [
    "#4\n",
    "hypothesis4 = \"Richard and Judy choose top books. The 10 authors shortlisted for a Richard and Judy book award in 2005 are hoping for a boost in sales following the success of this year's winner.\\\"It was very hard to follow last year\\'s extremely successful list, but we think this year\\'s books will do even better,\\\" said Richard and Judy executive producer Amanda Ross.\"\n",
    "reference4 = \"\\\"It was very hard to follow last year\\'s extremely successful list, but we think this year\\'s books will do even better,\\\" said Richard and Judy executive producer Amanda Ross.The 10 authors shortlisted for a Richard and Judy book award in 2005 are hoping for a boost in sales following the success of this year\\'s winner.The best read award, on Richard Madeley and Judy Finnigan\\'s Channel 4 show, is part of the British Book Awards.\\\"There\\'s no doubt that this year\\'s selection of book club entries is the best yet.The TV couple\\'s interest in the book world coined the term \\\"the Richard & Judy effect\\\" and created the top two best-selling paperbacks of 2004 so far.\"\n",
    "rouge.get_scores(hypothesis4, reference4, avg=True)"
   ]
  },
  {
   "cell_type": "code",
   "execution_count": 6,
   "metadata": {},
   "outputs": [
    {
     "data": {
      "text/plain": [
       "{'rouge-1': {'r': 0.5892857142857143,\n",
       "  'p': 0.9166666666666666,\n",
       "  'f': 0.717391299584121},\n",
       " 'rouge-2': {'r': 0.5068493150684932,\n",
       "  'p': 0.8809523809523809,\n",
       "  'f': 0.6434782562328923},\n",
       " 'rouge-l': {'r': 0.5892857142857143,\n",
       "  'p': 0.9166666666666666,\n",
       "  'f': 0.717391299584121}}"
      ]
     },
     "execution_count": 6,
     "metadata": {},
     "output_type": "execute_result"
    }
   ],
   "source": [
    "#6\n",
    "hypothesis6= \"Bennett play takes theatre prizes. The History Boys by Alan Bennett has been named best new play in the Critics\\' Circle Theatre Awards. The Producers was named best musical, Victoria Hamilton was best actress for Suddenly Last Summer and Festen\\'s Rufus Norris was named best director\"\n",
    "reference6 = \"The History Boys by Alan Bennett has been named best new play in the Critics\\' Circle Theatre Awards.The Producers was named best musical, Victoria Hamilton was best actress for Suddenly Last Summer and Festen's Rufus Norris was named best director.The History Boys also won the best new comedy title at the Theatregoers\\' Choice Awards.Diana Rigg was best actress for Suddenly Last Summer, Dame Judi Dench was best supporting actress for the RSC's All\\'s Well That Ends Well and The History Boys' Samuel Barnett was best supporting actor.\"\n",
    "rouge.get_scores(hypothesis6, reference6, avg=True)"
   ]
  },
  {
   "cell_type": "code",
   "execution_count": 7,
   "metadata": {},
   "outputs": [
    {
     "data": {
      "text/plain": [
       "{'rouge-1': {'r': 0.48333333333333334,\n",
       "  'p': 0.8169014084507042,\n",
       "  'f': 0.6073298382610126},\n",
       " 'rouge-2': {'r': 0.40764331210191085,\n",
       "  'p': 0.7191011235955056,\n",
       "  'f': 0.5203251986340804},\n",
       " 'rouge-l': {'r': 0.48333333333333334,\n",
       "  'p': 0.8169014084507042,\n",
       "  'f': 0.6073298382610126}}"
      ]
     },
     "execution_count": 7,
     "metadata": {},
     "output_type": "execute_result"
    }
   ],
   "source": [
    "#8\n",
    "hypothesis8= \"West End to honour finest shows. The West End is honouring its finest stars and shows at the Evening Standard Theatre Awards in London on Monday. Ferris - best known for her television roles in programmes such as The Darling Buds of May - has made the shortlist for her role in Notes on Falling Leaves, at the Royal Court Theatre. Meanwhile, Richard Griffiths, who plays Hector in The History Boys at the National Theatre, will battle it out for the best actor award with Douglas Hodge (Dumb Show) and Stanley Townsend (Shining City).\"\n",
    "reference8= \"Meanwhile, Richard Griffiths, who plays Hector in The History Boys at the National Theatre, will battle it out for the best actor award with Douglas Hodge (Dumb Show) and Stanley Townsend (Shining City).The Milton Shulman Award for outstanding newcomer will be presented to Dominic Cooper (His Dark Materials and The History Boys), Romola Garai (Calico), Eddie Redmayne (The Goat, or Who is Sylvia?)by Edward Albee, The Pillowman by Martin McDonagh and Alan Bennett's The History Boys are shortlisted in the best play category.The Producers, starring Nathan Lane and Lee Evans, is up for best musical at the ceremony at the National Theatre.Ferris - best known for her television roles in programmes such as The Darling Buds of May - has made the shortlist for her role in Notes on Falling Leaves, at the Royal Court Theatre.Festen is also shortlisted in the best designer category where Ian MacNeil, Jean Kalman and Paul Arditti will be up against Hildegard Bechtler, for Iphigenia at Aulis, and Paul Brown, for False Servant.\"\n",
    "rouge.get_scores(hypothesis8, reference8, avg=True)"
   ]
  },
  {
   "cell_type": "code",
   "execution_count": 8,
   "metadata": {},
   "outputs": [
    {
     "data": {
      "text/plain": [
       "{'rouge-1': {'r': 0.6170212765957447,\n",
       "  'p': 0.9666666666666667,\n",
       "  'f': 0.7532467484904707},\n",
       " 'rouge-2': {'r': 0.5267175572519084, 'p': 0.92, 'f': 0.6699029079908569},\n",
       " 'rouge-l': {'r': 0.6170212765957447,\n",
       "  'p': 0.9666666666666667,\n",
       "  'f': 0.7532467484904707}}"
      ]
     },
     "execution_count": 8,
     "metadata": {},
     "output_type": "execute_result"
    }
   ],
   "source": [
    "#9\n",
    "hypothesis9 = \"Da Vinci Code is 'lousy history' The plot of an international bestseller that thousands of readers are likely to receive as a Christmas present is 'laughable', a clergyman has said. Brown's book has become a publishing phenomenon, consistently topping book charts in the UK and US. The Da Vinci Code has been translated into 42 languages and has spawned its own cottage industry of publications, including guides on to how to read the book, rebuttals and counter claims.\"\n",
    "reference9= \"Despite enjoying Dan Brown's conspiracy theory, the Bishop said there was a lack of evidence to back up its claims.A great deal of credible evidence proves the Biblical version of Jesus' life was true, according to the Bishop.The Da Vinci Code has been translated into 42 languages and has spawned its own cottage industry of publications, including guides on to how to read the book, rebuttals and counter claims.The plot of an international bestseller that thousands of readers are likely to receive as a Christmas present is 'laughable', a clergyman has said.The book, which has become an international best-seller in little over two years, is set to be made into a film starring Tom Hanks.Brown's book has become a publishing phenomenon, consistently topping book charts in the UK and US.\"\n",
    "rouge.get_scores(hypothesis9, reference9, avg=True)"
   ]
  },
  {
   "cell_type": "code",
   "execution_count": 9,
   "metadata": {},
   "outputs": [
    {
     "data": {
      "text/plain": [
       "{'rouge-1': {'r': 0.5, 'p': 0.7272727272727273, 'f': 0.5925925877640604},\n",
       " 'rouge-2': {'r': 0.4017857142857143,\n",
       "  'p': 0.6617647058823529,\n",
       "  'f': 0.4999999952987655},\n",
       " 'rouge-l': {'r': 0.5, 'p': 0.7272727272727273, 'f': 0.5925925877640604}}"
      ]
     },
     "execution_count": 9,
     "metadata": {},
     "output_type": "execute_result"
    }
   ],
   "source": [
    "#10\n",
    "hypothesis10= \"Uganda bans Vagina Monologues Uganda's authorities have banned the play The Vagina Monologues, due to open in the capital, Kampala this weekend. \\\"The play is obscene and pornographic although it was under the guise of women's liberation,\\\" MP Kefa Ssempgani told parliament. The four Ugandan NGOs organising the play intended to raise money to campaign to stop violence against women and to raise funds for the war-torn north of the country.\"\n",
    "reference10= \"She said the play is being produced and performed by Ugandan women and it is not being forced on them.But the organisers of the play say it raises awareness of sexual abuse against women.\\\"The play promotes illegal, unnatural sexual acts, homosexuality and prostitution, it should be and is hereby banned,\\\" the council's ruling said.Uganda's authorities have banned the play The Vagina Monologues, due to open in the capital, Kampala this weekend.The four Ugandan NGOs organising the play intended to raise money to campaign to stop violence against women and to raise funds for the war-torn north of the country.\\\"There is obviously some fear of the vagina and saying the word vagina,\\\" Ms Ensler told the BBC.\"\n",
    "rouge.get_scores(hypothesis10, reference10, avg=True)"
   ]
  },
  {
   "cell_type": "code",
   "execution_count": 10,
   "metadata": {},
   "outputs": [
    {
     "data": {
      "text/plain": [
       "{'rouge-1': {'r': 0.45161290322580644,\n",
       "  'p': 0.9333333333333333,\n",
       "  'f': 0.608695647778828},\n",
       " 'rouge-2': {'r': 0.40350877192982454,\n",
       "  'p': 0.9019607843137255,\n",
       "  'f': 0.5575757533046832},\n",
       " 'rouge-l': {'r': 0.45161290322580644,\n",
       "  'p': 0.9333333333333333,\n",
       "  'f': 0.608695647778828}}"
      ]
     },
     "execution_count": 10,
     "metadata": {},
     "output_type": "execute_result"
    }
   ],
   "source": [
    "#11\n",
    "hypothesis11= \"Artists' secret postcards on sale Postcards by artists including Damien Hirst and Tracey Emin have sold just hours after the opening of the Royal Academy of Arts annual Secrets sale. Money raised from the sale will go towards the RCA's Fine Art Student Award Fund which supports students with grants and bursaries.\"\n",
    "reference11= \"Ms Bradburn said there was a big queue at the start of the sale but it had now gone down.She said the people that had bought the famous name postcards had arrived early and had spent time studying each work.The famous sale is now in its 11th year.Money raised from the sale will go towards the RCA's Fine Art Student Award Fund which supports students with grants and bursaries.Film director Ken Loach, fashion designer Hussein Chalayan and former Blur guitarist Graham Coxon have all designed postcards for the sale.Postcards by artists including Damien Hirst and Tracey Emin have sold just hours after the opening of the Royal Academy of Arts annual Secrets sale.\"\n",
    "rouge.get_scores(hypothesis11, reference11, avg=True)"
   ]
  },
  {
   "cell_type": "code",
   "execution_count": 11,
   "metadata": {},
   "outputs": [
    {
     "data": {
      "text/plain": [
       "{'rouge-1': {'r': 0.5690947069529672,\n",
       "  'p': 0.8548417654296833,\n",
       "  'f': 0.6751840235649992},\n",
       " 'rouge-2': {'r': 0.4531066310325634,\n",
       "  'p': 0.7662271674454976,\n",
       "  'f': 0.5606589485841513},\n",
       " 'rouge-l': {'r': 0.5462842252383758,\n",
       "  'p': 0.8313675870259274,\n",
       "  'f': 0.6520465182435857}}"
      ]
     },
     "execution_count": 11,
     "metadata": {},
     "output_type": "execute_result"
    }
   ],
   "source": [
    "modelarray = [hypothesis1,hypothesis2,hypothesis3,hypothesis4,hypothesis6,hypothesis8,hypothesis9,hypothesis10,hypothesis11]\n",
    "\n",
    "referencearray = [reference1,reference2,reference3,reference4,reference6,reference8,reference9,reference10,reference11]\n",
    "rouge.get_scores(modelarray,referencearray,avg=True)"
   ]
  },
  {
   "cell_type": "code",
   "execution_count": null,
   "metadata": {},
   "outputs": [],
   "source": []
  }
 ],
 "metadata": {
  "kernelspec": {
   "display_name": "Python 3.10.5 64-bit",
   "language": "python",
   "name": "python3"
  },
  "language_info": {
   "codemirror_mode": {
    "name": "ipython",
    "version": 3
   },
   "file_extension": ".py",
   "mimetype": "text/x-python",
   "name": "python",
   "nbconvert_exporter": "python",
   "pygments_lexer": "ipython3",
   "version": "3.10.5"
  },
  "vscode": {
   "interpreter": {
    "hash": "0334ea6ff030685dad5974c320cdaf623bb3aafa06c1ab73f81d05a29addd0ed"
   }
  }
 },
 "nbformat": 4,
 "nbformat_minor": 2
}
