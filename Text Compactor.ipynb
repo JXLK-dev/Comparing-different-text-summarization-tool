{
 "cells": [
  {
   "cell_type": "code",
   "execution_count": 1,
   "id": "815fcc82",
   "metadata": {},
   "outputs": [],
   "source": [
    "from rouge import Rouge"
   ]
  },
  {
   "cell_type": "code",
   "execution_count": 2,
   "id": "e49b7732",
   "metadata": {},
   "outputs": [],
   "source": [
    "# 1\n",
    "model_out1 = \"Gallery unveils interactive tree. A Christmas tree that can receive text messages has been unveiled at London's Tate Britain art gallery. The spruce has an antenna which can receive Bluetooth texts sent by visitors to the Tate. The messages will be \\\"unwrapped\\\" by sculptor Richard Wentworth, who is responsible for decorating the tree with broken plates and light bulbs. It is the 17th year that the gallery has invited an artist to dress their Christmas tree. Artists who have decorated the Tate tree in previous years include Tracey Emin in 2002. The plain green Norway spruce is displayed in the gallery's foyer.\"\n",
    "\n",
    "reference1 = \"The messages will be \\\"unwrapped\\\" by sculptor Richard Wentworth, who is responsible for decorating the tree with broken plates and light bulbs.A Christmas tree that can receive text messages has been unveiled at London's Tate Britain art gallery.It is the 17th year that the gallery has invited an artist to dress their Christmas tree.The spruce has an antenna which can receive Bluetooth texts sent by visitors to the Tate.His reputation as a sculptor grew in the 1980s, while he has been one of the most influential teachers during the last two decades.\""
   ]
  },
  {
   "cell_type": "code",
   "execution_count": 3,
   "id": "2bd2703e",
   "metadata": {},
   "outputs": [],
   "source": [
    "rouge = Rouge()"
   ]
  },
  {
   "cell_type": "code",
   "execution_count": 4,
   "id": "d5e71500",
   "metadata": {},
   "outputs": [
    {
     "data": {
      "text/plain": [
       "[{'rouge-1': {'r': 0.7605633802816901, 'p': 0.75, 'f': 0.7552447502449999},\n",
       "  'rouge-2': {'r': 0.7282608695652174,\n",
       "   'p': 0.6836734693877551,\n",
       "   'f': 0.7052631528997231},\n",
       "  'rouge-l': {'r': 0.7605633802816901, 'p': 0.75, 'f': 0.7552447502449999}}]"
      ]
     },
     "execution_count": 4,
     "metadata": {},
     "output_type": "execute_result"
    }
   ],
   "source": [
    "rouge.get_scores(model_out1, reference1)"
   ]
  },
  {
   "cell_type": "code",
   "execution_count": 5,
   "id": "2d405f84",
   "metadata": {},
   "outputs": [
    {
     "data": {
      "text/plain": [
       "[{'rouge-1': {'r': 0.7972972972972973,\n",
       "   'p': 0.6555555555555556,\n",
       "   'f': 0.719512190169542},\n",
       "  'rouge-2': {'r': 0.7634408602150538,\n",
       "   'p': 0.6016949152542372,\n",
       "   'f': 0.6729857770607129},\n",
       "  'rouge-l': {'r': 0.7972972972972973,\n",
       "   'p': 0.6555555555555556,\n",
       "   'f': 0.719512190169542}}]"
      ]
     },
     "execution_count": 5,
     "metadata": {},
     "output_type": "execute_result"
    }
   ],
   "source": [
    "# 2\n",
    "model_out2 = \"Jarre joins fairytale celebration. French musician Jean-Michel Jarre is to perform at a concert in Copenhagen to mark the bicentennial of the birth of writer Hans Christian Andersen.Denmark is holding a three-day celebration of the life of the fairy-tale author, with a concert at Parken stadium on 2 April. \\\"Christian Andersen's fairy tales are timeless and universal,\\\" said Jarre. The pair were at a Manhattan library to honour US literary critic Harold Bloom \\\"the international icon we thought we knew so well\\\".\\\"Bloom recognizes the darker aspects of Andersen's authorship,\\\" Prince Frederik said. Bloom is to be formally presented with the Hans Christian Andersen Award this spring in Anderson's hometown of Odense. Later at a gala dinner, Danish supermodel Helena Christensen was named a Hans Christian Andersen ambassador.\"\n",
    "\n",
    "reference2= \"Bloom is to be formally presented with the Hans Christian Andersen Award this spring in Anderson's hometown of Odense.Later at a gala dinner, Danish supermodel Helena Christensen was named a Hans Christian Andersen ambassador.French musician Jean-Michel Jarre is to perform at a concert in Copenhagen to mark the bicentennial of the birth of writer Hans Christian Andersen.\\\"Christian Andersen's fairy tales are timeless and universal,\\\" said Jarre.The royal couple also visited the Hans Christian Anderson School complex, where Queen Mary read The Ugly Duckling to the young audience.\\\"Bloom recognizes the darker aspects of Andersen's authorship,\\\" Prince Frederik said.\"\n",
    "rouge.get_scores(model_out2, reference2)"
   ]
  },
  {
   "cell_type": "code",
   "execution_count": 6,
   "id": "e82f7804",
   "metadata": {},
   "outputs": [
    {
     "data": {
      "text/plain": [
       "[{'rouge-1': {'r': 0.8548387096774194,\n",
       "   'p': 0.5638297872340425,\n",
       "   'f': 0.6794871746975674},\n",
       "  'rouge-2': {'r': 0.7530864197530864,\n",
       "   'p': 0.48031496062992124,\n",
       "   'f': 0.5865384567830066},\n",
       "  'rouge-l': {'r': 0.8387096774193549,\n",
       "   'p': 0.5531914893617021,\n",
       "   'f': 0.6666666618770546}}]"
      ]
     },
     "execution_count": 6,
     "metadata": {},
     "output_type": "execute_result"
    }
   ],
   "source": [
    "# 3\n",
    "model_out3 = \"Musical treatment for Capra film. The classic film It's A Wonderful Life is to be turned into a musical by the producer of the controversial hit show Jerry Springer - The Opera. Frank Capra's 1946 movie starring James Stewart, is being turned into a £7m musical by producer Jon Thoday. He is working with Steve Brown, who wrote the award-winning musical Spend Spend Spend. A spokeswoman said the plans were in the \\\"very early stages\\\", with no cast, opening date or theatre announced. A series of workshops have been held in London, and on Wednesday a cast of singers unveiled the musical to a select group of potential investors. Mr Thoday managed to buy the rights to the story from Van Doren Stern's family in 1999, following Mr Brown's success with Spend Spend Spend.\"\n",
    "\n",
    "reference3= \"The classic film It's A Wonderful Life is to be turned into a musical by the producer of the controversial hit show Jerry Springer - The Opera.Mr Thoday said the idea of turning the film into a musical had been an ambition of his for almost 20 years.Mr Thoday managed to buy the rights to the story from Van Doren Stern's family in 1999, following Mr Brown's success with Spend Spend Spend.He is working with Steve Brown, who wrote the award-winning musical Spend Spend Spend.\"\n",
    "rouge.get_scores(model_out3, reference3)"
   ]
  },
  {
   "cell_type": "code",
   "execution_count": 7,
   "id": "b8cfe07a",
   "metadata": {},
   "outputs": [
    {
     "data": {
      "text/plain": [
       "[{'rouge-1': {'r': 0.8604651162790697,\n",
       "   'p': 0.8222222222222222,\n",
       "   'f': 0.8409090859116736},\n",
       "  'rouge-2': {'r': 0.8108108108108109,\n",
       "   'p': 0.7894736842105263,\n",
       "   'f': 0.799999995000889},\n",
       "  'rouge-l': {'r': 0.8604651162790697,\n",
       "   'p': 0.8222222222222222,\n",
       "   'f': 0.8409090859116736}}]"
      ]
     },
     "execution_count": 7,
     "metadata": {},
     "output_type": "execute_result"
    }
   ],
   "source": [
    "# 4\n",
    "model_out4 = \"Richard and Judy choose top books. The 10 authors shortlisted for a Richard and Judy book award in 2005 are hoping for a boost in sales following the success of this year's winner. The TV couple's interest in the book world coined the term \\\"the Richard & Judy effect\\\" and created the top two best-selling paperbacks of 2004 so far. David Mitchell's Booker-shortlisted novel, Cloud Atlas, makes it into this year's top 10 along with several lesser known works. \\\"There's no doubt that this year's selection of book club entries is the best yet. \\\"It was very hard to follow last year's extremely successful list, but we think this year's books will do even better,\\\" said Richard and Judy executive producer Amanda Ross.\"\n",
    "\n",
    "reference4= \"\\\"It was very hard to follow last year's extremely successful list, but we think this year's books will do even better,\\\" said Richard and Judy executive producer Amanda Ross.The 10 authors shortlisted for a Richard and Judy book award in 2005 are hoping for a boost in sales following the success of this year's winner.The best read award, on Richard Madeley and Judy Finnigan's Channel 4 show, is part of the British Book Awards.\\\"There's no doubt that this year's selection of book club entries is the best yet.The TV couple's interest in the book world coined the term \\\"the Richard & Judy effect\\\" and created the top two best-selling paperbacks of 2004 so far.\"\n",
    "rouge.get_scores(model_out4, reference4)"
   ]
  },
  {
   "cell_type": "code",
   "execution_count": 8,
   "id": "05c69a38",
   "metadata": {},
   "outputs": [
    {
     "data": {
      "text/plain": [
       "[{'rouge-1': {'r': 0.5714285714285714,\n",
       "   'p': 0.3855421686746988,\n",
       "   'f': 0.46043164986491386},\n",
       "  'rouge-2': {'r': 0.4246575342465753,\n",
       "   'p': 0.2627118644067797,\n",
       "   'f': 0.32460732512047374},\n",
       "  'rouge-l': {'r': 0.5714285714285714,\n",
       "   'p': 0.3855421686746988,\n",
       "   'f': 0.46043164986491386}}]"
      ]
     },
     "execution_count": 8,
     "metadata": {},
     "output_type": "execute_result"
    }
   ],
   "source": [
    "# 6\n",
    "model_out6 = \"Bennett play takes theatre prizes. The History Boys by Alan Bennett has been named best new play in the Critics' Circle Theatre Awards. Set in a grammar school, the play also earned a best actor prize for star Richard Griffiths as teacher Hector. The History Boys also won the best new comedy title at the Theatregoers' Choice Awards. Partly based upon Alan Bennett's experience as a teacher, The History Boys has been at London's National Theatre since last May. The Critics' Circle named Rebecca Lenkiewicz its most promising playwright for The Night Season, and Eddie Redmayne most promising newcomer for The Goat or, Who is Sylvia? Paul Rhys was its best Shakespearean performer for Measure for Measure at the National Theatre and Christopher Oram won the design award for Suddenly Last Summer.\"\n",
    "\n",
    "reference6= \"The History Boys by Alan Bennett has been named best new play in the Critics' Circle Theatre Awards.The Producers was named best musical, Victoria Hamilton was best actress for Suddenly Last Summer and Festen's Rufus Norris was named best director.The History Boys also won the best new comedy title at the Theatregoers' Choice Awards.Diana Rigg was best actress for Suddenly Last Summer, Dame Judi Dench was best supporting actress for the RSC's All's Well That Ends Well and The History Boys' Samuel Barnett was best supporting actor.\"\n",
    "rouge.get_scores(model_out6, reference6)"
   ]
  },
  {
   "cell_type": "code",
   "execution_count": 9,
   "id": "d632b17a",
   "metadata": {},
   "outputs": [
    {
     "data": {
      "text/plain": [
       "[{'rouge-1': {'r': 0.6416666666666667, 'p': 0.7, 'f': 0.6695652124007562},\n",
       "  'rouge-2': {'r': 0.5923566878980892,\n",
       "   'p': 0.6078431372549019,\n",
       "   'f': 0.5999999950008326},\n",
       "  'rouge-l': {'r': 0.6333333333333333,\n",
       "   'p': 0.6909090909090909,\n",
       "   'f': 0.6608695602268432}}]"
      ]
     },
     "execution_count": 9,
     "metadata": {},
     "output_type": "execute_result"
    }
   ],
   "source": [
    "# 8\n",
    "model_out8 = \"West End to honour finest shows. The West End is honouring its finest stars and shows at the Evening Standard Theatre Awards in London on Monday. The Producers, starring Nathan Lane and Lee Evans, is up for best musical at the ceremony at the National Theatre. by Edward Albee, The Pillowman by Martin McDonagh and Alan Bennett's The History Boys are shortlisted in the best play category. Pam Ferris, Victoria Hamilton and Kelly Reilly are nominated for best actress. Meanwhile, Richard Griffiths, who plays Hector in The History Boys at the National Theatre, will battle it out for the best actor award with Douglas Hodge (Dumb Show) and Stanley Townsend (Shining City). The best director shortlist includes Luc Bondy for Cruel and Tender, Simon McBurney for Measure for Measure, and Rufus Norris for Festen. Festen is also shortlisted in the best designer category where Ian MacNeil, Jean Kalman and Paul Arditti will be up against Hildegard Bechtler, for Iphigenia at Aulis, and Paul Brown, for False Servant.\"\n",
    "\n",
    "reference8= \"Meanwhile, Richard Griffiths, who plays Hector in The History Boys at the National Theatre, will battle it out for the best actor award with Douglas Hodge (Dumb Show) and Stanley Townsend (Shining City).The Milton Shulman Award for outstanding newcomer will be presented to Dominic Cooper (His Dark Materials and The History Boys), Romola Garai (Calico), Eddie Redmayne (The Goat, or Who is Sylvia?)by Edward Albee, The Pillowman by Martin McDonagh and Alan Bennett's The History Boys are shortlisted in the best play category.The Producers, starring Nathan Lane and Lee Evans, is up for best musical at the ceremony at the National Theatre.Ferris - best known for her television roles in programmes such as The Darling Buds of May - has made the shortlist for her role in Notes on Falling Leaves, at the Royal Court Theatre.Festen is also shortlisted in the best designer category where Ian MacNeil, Jean Kalman and Paul Arditti will be up against Hildegard Bechtler, for Iphigenia at Aulis, and Paul Brown, for False Servant.\"\n",
    "rouge.get_scores(model_out8, reference8)"
   ]
  },
  {
   "cell_type": "code",
   "execution_count": 10,
   "id": "48c47e42",
   "metadata": {},
   "outputs": [
    {
     "data": {
      "text/plain": [
       "[{'rouge-1': {'r': 0.5638297872340425, 'p': 0.424, 'f': 0.4840182599403683},\n",
       "  'rouge-2': {'r': 0.46564885496183206,\n",
       "   'p': 0.3630952380952381,\n",
       "   'f': 0.40802675092940793},\n",
       "  'rouge-l': {'r': 0.5638297872340425, 'p': 0.424, 'f': 0.4840182599403683}}]"
      ]
     },
     "execution_count": 10,
     "metadata": {},
     "output_type": "execute_result"
    }
   ],
   "source": [
    "# 9\n",
    "model_out9 = \"Da Vinci Code is 'lousy history'. The plot of an international bestseller that thousands of readers are likely to receive as a Christmas present is 'laughable', a clergyman has said. The Da Vinci Code claims Jesus was not crucified, but married Mary Magdalene and died a normal death. Despite enjoying Dan Brown's conspiracy theory, the Bishop said there was a lack of evidence to back up its claims. Writing his Christmas message in the Northern Echo, the Bishop said: \\\"Conspiracy theories are always fun - fun to invent, fun to read, fun to fantasise about. \\\"We have literally a hundred times more early manuscripts for the gospels and letters in the New Testament than we have for the main classical authors like Cicero, Virgil and Tacitus. \\\"Historical research shows that they present a coherent and thoroughly credible picture of Jesus, with all sorts of incidental details that fit the time when he lived, and don't fit the world of later legend.\\\" Brown's book has become a publishing phenomenon, consistently topping book charts in the UK and US.\"\n",
    "\n",
    "reference9= \"Despite enjoying Dan Brown's conspiracy theory, the Bishop said there was a lack of evidence to back up its claims.A great deal of credible evidence proves the Biblical version of Jesus' life was true, according to the Bishop.The Da Vinci Code has been translated into 42 languages and has spawned its own cottage industry of publications, including guides on to how to read the book, rebuttals and counter claims.The plot of an international bestseller that thousands of readers are likely to receive as a Christmas present is 'laughable', a clergyman has said.The book, which has become an international best-seller in little over two years, is set to be made into a film starring Tom Hanks.Brown's book has become a publishing phenomenon, consistently topping book charts in the UK and US.\"\n",
    "rouge.get_scores(model_out9, reference9)"
   ]
  },
  {
   "cell_type": "code",
   "execution_count": 11,
   "id": "1f1e5388",
   "metadata": {},
   "outputs": [
    {
     "data": {
      "text/plain": [
       "[{'rouge-1': {'r': 0.775, 'p': 0.5299145299145299, 'f': 0.629441619541859},\n",
       "  'rouge-2': {'r': 0.7053571428571429,\n",
       "   'p': 0.4906832298136646,\n",
       "   'f': 0.5787545739156571},\n",
       "  'rouge-l': {'r': 0.775, 'p': 0.5299145299145299, 'f': 0.629441619541859}}]"
      ]
     },
     "execution_count": 11,
     "metadata": {},
     "output_type": "execute_result"
    }
   ],
   "source": [
    "# 10\n",
    "model_out10 = \"Uganda bans Vagina Monologues. Uganda's authorities have banned the play The Vagina Monologues, due to open in the capital, Kampala this weekend. The Ugandan Media Council said the performance would not be put on as it promoted and glorified acts such as lesbianism and homosexuality. But the organisers of the play say it raises awareness of sexual abuse against women. \\\"The play promotes illegal, unnatural sexual acts, homosexuality and prostitution, it should be and is hereby banned,\\\" the council's ruling said. The show, which has been a controversial sell-out around the world, explores female sexuality and strength through individual women telling their stories through monologues. \\\"The play is obscene and pornographic although it was under the guise of women's liberation,\\\" MP Kefa Ssempgani told parliament. But the work's author, US playwright Eve Ensler, says it is all about women's empowerment. The four Ugandan NGOs organising the play intended to raise money to campaign to stop violence against women and to raise funds for the war-torn north of the country.\"\n",
    "\n",
    "reference10= \"She said the play is being produced and performed by Ugandan women and it is not being forced on them.But the organisers of the play say it raises awareness of sexual abuse against women.\\\"The play promotes illegal, unnatural sexual acts, homosexuality and prostitution, it should be and is hereby banned,\\\" the council's ruling said.Uganda's authorities have banned the play The Vagina Monologues, due to open in the capital, Kampala this weekend.The four Ugandan NGOs organising the play intended to raise money to campaign to stop violence against women and to raise funds for the war-torn north of the country.\\\"There is obviously some fear of the vagina and saying the word vagina,\\\" Ms Ensler told the BBC.\"\n",
    "rouge.get_scores(model_out10, reference10)"
   ]
  },
  {
   "cell_type": "code",
   "execution_count": 12,
   "id": "5eedc061",
   "metadata": {},
   "outputs": [
    {
     "data": {
      "text/plain": [
       "[{'rouge-1': {'r': 0.7849462365591398,\n",
       "   'p': 0.8690476190476191,\n",
       "   'f': 0.8248587520750742},\n",
       "  'rouge-2': {'r': 0.7368421052631579,\n",
       "   'p': 0.7777777777777778,\n",
       "   'f': 0.7567567517604091},\n",
       "  'rouge-l': {'r': 0.7849462365591398,\n",
       "   'p': 0.8690476190476191,\n",
       "   'f': 0.8248587520750742}}]"
      ]
     },
     "execution_count": 12,
     "metadata": {},
     "output_type": "execute_result"
    }
   ],
   "source": [
    "# 11\n",
    "model_out11 = \"Artists' secret postcards on sale. Postcards by artists including Damien Hirst and Tracey Emin have sold just hours after the opening of the Royal Academy of Arts annual Secrets sale. The identity of the artist remains unknown until each work is bought and the signature is revealed on the back. Ms Bradburn said there was a big queue at the start of the sale but it had now gone down. She said the people that had bought the famous name postcards had arrived early and had spent time studying each work. Money raised from the sale will go towards the RCA's Fine Art Student Award Fund which supports students with grants and bursaries.\"\n",
    "\n",
    "reference11= \"Ms Bradburn said there was a big queue at the start of the sale but it had now gone down.She said the people that had bought the famous name postcards had arrived early and had spent time studying each work.The famous sale is now in its 11th year.Money raised from the sale will go towards the RCA's Fine Art Student Award Fund which supports students with grants and bursaries.Film director Ken Loach, fashion designer Hussein Chalayan and former Blur guitarist Graham Coxon have all designed postcards for the sale.Postcards by artists including Damien Hirst and Tracey Emin have sold just hours after the opening of the Royal Academy of Arts annual Secrets sale.\"\n",
    "rouge.get_scores(model_out11, reference11)"
   ]
  },
  {
   "cell_type": "code",
   "execution_count": null,
   "id": "b21071b9",
   "metadata": {},
   "outputs": [],
   "source": []
  }
 ],
 "metadata": {
  "kernelspec": {
   "display_name": "Python 3 (ipykernel)",
   "language": "python",
   "name": "python3"
  },
  "language_info": {
   "codemirror_mode": {
    "name": "ipython",
    "version": 3
   },
   "file_extension": ".py",
   "mimetype": "text/x-python",
   "name": "python",
   "nbconvert_exporter": "python",
   "pygments_lexer": "ipython3",
   "version": "3.10.4"
  }
 },
 "nbformat": 4,
 "nbformat_minor": 5
}
